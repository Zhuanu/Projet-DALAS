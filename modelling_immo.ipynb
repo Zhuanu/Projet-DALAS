{
 "cells": [
  {
   "cell_type": "code",
   "execution_count": 1,
   "metadata": {},
   "outputs": [],
   "source": [
    "import pandas as pd\n",
    "import numpy as np\n",
    "import matplotlib.pyplot as plt\n",
    "import seaborn as sns\n",
    "from sklearn.preprocessing import StandardScaler\n",
    "from sklearn.ensemble import IsolationForest\n",
    "from sklearn.preprocessing import LabelEncoder\n",
    "from sklearn.decomposition import PCA"
   ]
  },
  {
   "cell_type": "markdown",
   "metadata": {},
   "source": [
    "# Modelling\n",
    "\n",
    "Tester les différentes modèles, les différents hyperparamètre pour obtenir le meilleur modèle de prédiction possible"
   ]
  },
  {
   "cell_type": "markdown",
   "metadata": {},
   "source": [
    "## Dataset"
   ]
  },
  {
   "cell_type": "code",
   "execution_count": 2,
   "metadata": {},
   "outputs": [],
   "source": [
    "file_path = 'data/immodataParis.csv'\n",
    "data = pd.read_csv(file_path)"
   ]
  },
  {
   "cell_type": "markdown",
   "metadata": {},
   "source": [
    "## Fonctions"
   ]
  },
  {
   "cell_type": "code",
   "execution_count": 3,
   "metadata": {},
   "outputs": [],
   "source": [
    "def preprocess_dates_rows(data, date_column, format='%d/%m/%Y') :\n",
    "    abnormal_values = []\n",
    "\n",
    "    for i in range(data[date_column].size) :\n",
    "\n",
    "        # Si une date est dans son format, on fait rien\n",
    "        try :\n",
    "            pd.to_datetime(data[date_column].astype(str).iloc[i], format=format)\n",
    "\n",
    "        # Sinon, on l'ajoute dans les valeurs anormales pour pouvoir les supprimer\n",
    "        except :\n",
    "            value = data[date_column].astype(str).iloc[i]\n",
    "            print(value)\n",
    "            abnormal_values.append(value)\n",
    "\n",
    "    data_removed_rows = data.drop(data[data[date_column].astype(str).isin(abnormal_values)].index)\n",
    "    data_removed_rows['Date de vente'] = pd.to_datetime(data_removed_rows['Date de vente'].astype(str), format=format)\n",
    "    return data_removed_rows\n",
    "\n",
    "\n",
    "def encode_cat_data(data, columns, encoder=LabelEncoder()) :\n",
    "\n",
    "    data_copy = data.copy()\n",
    "    if type(columns) != list :\n",
    "        data_copy[columns] = encoder.fit_transform(data_copy[columns])\n",
    "    else :\n",
    "        for column in columns :\n",
    "            data_copy[column] = encoder.fit_transform(data_copy[column])\n",
    "\n",
    "    return data_copy\n",
    "\n",
    "def remove_outliers_rows(data, contamination=0.005, random_state=42) :\n",
    "    \n",
    "    # Isolation Forest model\n",
    "    isolation_forest = IsolationForest(contamination=contamination, random_state=random_state)  # You can adjust the contamination parameter\n",
    "    isolation_forest.fit(data)\n",
    "    outlier_predictions = isolation_forest.predict(data)\n",
    "    outliers_count = (outlier_predictions == -1).sum()\n",
    "    print(f\"Total outliers identified: {outliers_count}\")\n",
    "\n",
    "    # Removing outliers\n",
    "    data_copy = data.copy()\n",
    "    data_copy['Outlier'] = outlier_predictions\n",
    "    rows_to_delete = df[data_copy['Outlier'] == -1].index\n",
    "\n",
    "    return data.drop(rows_to_delete, axis=0)\n",
    "\n",
    "def remove_zeros_rows(data, columns) :\n",
    "    data_copy = data.copy()\n",
    "    if type(columns) != list :\n",
    "        rows_to_remove = data_copy[data_copy[columns] == 0]\n",
    "        return data_copy.drop(rows_to_remove.index)\n",
    "    for column in columns :\n",
    "        rows_to_remove = data_copy[data_copy[column] == 0]\n",
    "        data_copy = data_copy.drop(rows_to_remove.index)\n",
    "    return data_copy"
   ]
  },
  {
   "cell_type": "markdown",
   "metadata": {},
   "source": [
    "## Preprocessing"
   ]
  },
  {
   "cell_type": "code",
   "execution_count": 4,
   "metadata": {},
   "outputs": [
    {
     "name": "stdout",
     "output_type": "stream",
     "text": [
      "59\n",
      "414\n",
      "Total outliers identified: 9\n"
     ]
    },
    {
     "data": {
      "text/html": [
       "<div>\n",
       "<style scoped>\n",
       "    .dataframe tbody tr th:only-of-type {\n",
       "        vertical-align: middle;\n",
       "    }\n",
       "\n",
       "    .dataframe tbody tr th {\n",
       "        vertical-align: top;\n",
       "    }\n",
       "\n",
       "    .dataframe thead th {\n",
       "        text-align: right;\n",
       "    }\n",
       "</style>\n",
       "<table border=\"1\" class=\"dataframe\">\n",
       "  <thead>\n",
       "    <tr style=\"text-align: right;\">\n",
       "      <th></th>\n",
       "      <th>Arrondissement</th>\n",
       "      <th>Type</th>\n",
       "      <th>Prix (€)</th>\n",
       "      <th>Prix mensuel (€)</th>\n",
       "      <th>Pièce(s)</th>\n",
       "      <th>Surface (m2)</th>\n",
       "      <th>Date de vente</th>\n",
       "    </tr>\n",
       "  </thead>\n",
       "  <tbody>\n",
       "    <tr>\n",
       "      <th>0</th>\n",
       "      <td>75001</td>\n",
       "      <td>Appartement</td>\n",
       "      <td>750400</td>\n",
       "      <td>14431</td>\n",
       "      <td>2</td>\n",
       "      <td>52</td>\n",
       "      <td>2023-05-22</td>\n",
       "    </tr>\n",
       "    <tr>\n",
       "      <th>1</th>\n",
       "      <td>75001</td>\n",
       "      <td>Appartement</td>\n",
       "      <td>330000</td>\n",
       "      <td>14348</td>\n",
       "      <td>1</td>\n",
       "      <td>23</td>\n",
       "      <td>2023-04-28</td>\n",
       "    </tr>\n",
       "    <tr>\n",
       "      <th>2</th>\n",
       "      <td>75001</td>\n",
       "      <td>Appartement</td>\n",
       "      <td>360100</td>\n",
       "      <td>15657</td>\n",
       "      <td>1</td>\n",
       "      <td>23</td>\n",
       "      <td>2023-03-29</td>\n",
       "    </tr>\n",
       "    <tr>\n",
       "      <th>3</th>\n",
       "      <td>75001</td>\n",
       "      <td>Appartement</td>\n",
       "      <td>286123</td>\n",
       "      <td>11005</td>\n",
       "      <td>1</td>\n",
       "      <td>26</td>\n",
       "      <td>2023-02-10</td>\n",
       "    </tr>\n",
       "    <tr>\n",
       "      <th>4</th>\n",
       "      <td>75001</td>\n",
       "      <td>Appartement</td>\n",
       "      <td>411636</td>\n",
       "      <td>12864</td>\n",
       "      <td>2</td>\n",
       "      <td>32</td>\n",
       "      <td>2022-12-28</td>\n",
       "    </tr>\n",
       "  </tbody>\n",
       "</table>\n",
       "</div>"
      ],
      "text/plain": [
       "   Arrondissement         Type  Prix (€)  Prix mensuel (€)  Pièce(s)  \\\n",
       "0           75001  Appartement    750400             14431         2   \n",
       "1           75001  Appartement    330000             14348         1   \n",
       "2           75001  Appartement    360100             15657         1   \n",
       "3           75001  Appartement    286123             11005         1   \n",
       "4           75001  Appartement    411636             12864         2   \n",
       "\n",
       "   Surface (m2) Date de vente  \n",
       "0            52    2023-05-22  \n",
       "1            23    2023-04-28  \n",
       "2            23    2023-03-29  \n",
       "3            26    2023-02-10  \n",
       "4            32    2022-12-28  "
      ]
     },
     "execution_count": 4,
     "metadata": {},
     "output_type": "execute_result"
    }
   ],
   "source": [
    "# df with original values except dates\n",
    "# df_bis with encoded values : Arrondissement, Type, Date de vente\n",
    "\n",
    "df = data.copy()\n",
    "df = df.drop(['Adresse', 'Ville'], axis=1)\n",
    "df = preprocess_dates_rows(df, 'Date de vente')\n",
    "df = remove_zeros_rows(df, ['Prix (€)', 'Prix mensuel (€)'])\n",
    "\n",
    "df_bis = df.copy()\n",
    "df_bis = encode_cat_data(df, ['Arrondissement', 'Type'])\n",
    "df_bis['Date de vente'] = pd.to_numeric(df['Date de vente'])\n",
    "df_bis = remove_outliers_rows(df_bis)\n",
    "\n",
    "df = df.loc[df_bis.index]\n",
    "df.head()\n"
   ]
  },
  {
   "cell_type": "code",
   "execution_count": 5,
   "metadata": {},
   "outputs": [
    {
     "data": {
      "text/html": [
       "<div>\n",
       "<style scoped>\n",
       "    .dataframe tbody tr th:only-of-type {\n",
       "        vertical-align: middle;\n",
       "    }\n",
       "\n",
       "    .dataframe tbody tr th {\n",
       "        vertical-align: top;\n",
       "    }\n",
       "\n",
       "    .dataframe thead th {\n",
       "        text-align: right;\n",
       "    }\n",
       "</style>\n",
       "<table border=\"1\" class=\"dataframe\">\n",
       "  <thead>\n",
       "    <tr style=\"text-align: right;\">\n",
       "      <th></th>\n",
       "      <th>0</th>\n",
       "      <th>1</th>\n",
       "      <th>2</th>\n",
       "      <th>3</th>\n",
       "      <th>4</th>\n",
       "      <th>5</th>\n",
       "      <th>6</th>\n",
       "    </tr>\n",
       "  </thead>\n",
       "  <tbody>\n",
       "    <tr>\n",
       "      <th>0</th>\n",
       "      <td>Arrondissement</td>\n",
       "      <td>Type</td>\n",
       "      <td>Prix (€)</td>\n",
       "      <td>Prix mensuel (€)</td>\n",
       "      <td>Pièce(s)</td>\n",
       "      <td>Surface (m2)</td>\n",
       "      <td>Date de vente</td>\n",
       "    </tr>\n",
       "    <tr>\n",
       "      <th>1</th>\n",
       "      <td>int64</td>\n",
       "      <td>object</td>\n",
       "      <td>int64</td>\n",
       "      <td>int64</td>\n",
       "      <td>int64</td>\n",
       "      <td>int64</td>\n",
       "      <td>datetime64[ns]</td>\n",
       "    </tr>\n",
       "  </tbody>\n",
       "</table>\n",
       "</div>"
      ],
      "text/plain": [
       "                0       1         2                 3         4             5  \\\n",
       "0  Arrondissement    Type  Prix (€)  Prix mensuel (€)  Pièce(s)  Surface (m2)   \n",
       "1           int64  object     int64             int64     int64         int64   \n",
       "\n",
       "                6  \n",
       "0   Date de vente  \n",
       "1  datetime64[ns]  "
      ]
     },
     "execution_count": 5,
     "metadata": {},
     "output_type": "execute_result"
    }
   ],
   "source": [
    "pd.DataFrame([df.columns, df.dtypes.values])"
   ]
  },
  {
   "cell_type": "markdown",
   "metadata": {},
   "source": [
    "## Modelling"
   ]
  }
 ],
 "metadata": {
  "kernelspec": {
   "display_name": "Python 3",
   "language": "python",
   "name": "python3"
  },
  "language_info": {
   "codemirror_mode": {
    "name": "ipython",
    "version": 3
   },
   "file_extension": ".py",
   "mimetype": "text/x-python",
   "name": "python",
   "nbconvert_exporter": "python",
   "pygments_lexer": "ipython3",
   "version": "3.9.3"
  }
 },
 "nbformat": 4,
 "nbformat_minor": 2
}
