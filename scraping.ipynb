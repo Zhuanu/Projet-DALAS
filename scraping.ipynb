{
 "cells": [
  {
   "cell_type": "markdown",
   "metadata": {},
   "source": []
  },
  {
   "cell_type": "code",
   "execution_count": 216,
   "metadata": {},
   "outputs": [],
   "source": [
    "import bs4\n",
    "import lxml\n",
    "import pandas as pd\n",
    "import urllib\n",
    "import csv\n",
    "import re\n",
    "\n",
    "from urllib import request"
   ]
  },
  {
   "cell_type": "code",
   "execution_count": 217,
   "metadata": {},
   "outputs": [],
   "source": [
    "base_url = \"https://www.century21.fr/annonces/location-appartement/v-paris/\"\n",
    "url = \"https://www.century21.fr/annonces/location-appartement/v-paris/page-2/\"\n",
    "request_text = request.urlopen(base_url).read()\n",
    "page = bs4.BeautifulSoup(request_text, \"lxml\")"
   ]
  },
  {
   "cell_type": "code",
   "execution_count": 218,
   "metadata": {},
   "outputs": [
    {
     "name": "stdout",
     "output_type": "stream",
     "text": [
      "1\n",
      "2\n",
      "2\n",
      "1\n"
     ]
    }
   ],
   "source": [
    "# Fonction pour remplacer la première virgule par un point avant \"m2\"\n",
    "def replace_comma_with_dot_before_m2(text):\n",
    "    return re.sub(r'(\\d+),(\\d+\\s*m2)', r'\\1.\\2', text, 1)\n",
    "\n",
    "def delete_m2(text):\n",
    "    return re.sub(r'(\\d+\\s*) m2', r'\\1', text, 1)\n",
    "\n",
    "def delete_pieces(text):\n",
    "    return re.sub(r' (\\d+\\s*) pièce.*', r'\\1', text, 1)\n",
    "\n",
    "def delete_euro(text):\n",
    "    return re.sub(r'€', '', text, 1)\n",
    "\n",
    "\n",
    "def get_info(annonces):\n",
    "    infos = []\n",
    "    for annonce in annonces:\n",
    "        info = annonce.find(class_=\"c-text-theme-heading-4 tw-text-c21-grey-darker tw-font-semibold\")\n",
    "        prix = annonce.find(class_=\"c-text-theme-heading-1 is-constant-size-on-mobile tw-mt-2 tablet-landscape:tw-mt-0 tw-whitespace-nowrap\")\n",
    "        line = info.get_text().strip().split(\"\\n\")\n",
    "        res = []\n",
    "        res.append(line[0].strip())\n",
    "        res.append(line[2].strip())\n",
    "        modified_string = line[5].strip()\n",
    "        modified_string = replace_comma_with_dot_before_m2(modified_string).split(\",\")\n",
    "        modified_string[0] = delete_m2(modified_string[0])\n",
    "        modified_string[1] = delete_pieces(modified_string[1])\n",
    "        res.append(modified_string[0])\n",
    "        res.append(modified_string[1])\n",
    "        modified_string = prix.get_text().strip().split(\"\\n\")[0]\n",
    "        modified_string = modified_string.replace(\" \", \"\")\n",
    "        modified_string = delete_euro(modified_string)\n",
    "        res.append(modified_string)\n",
    "        infos.append(res)\n",
    "    return infos\n",
    "\n",
    "\n",
    "annonces = page.find_all(class_=\"js-the-list-of-properties-list-property\")\n",
    "data = get_info(annonces)\n",
    "while True:\n",
    "    a_tags = page.find_all(class_=\"c-the-pagination-bar__item tw-flex tw-items-center tw-justify-center tw-w-10 tw-h-10 tw-bg-c21-gold tw-text-white tw-transition-colors tw-duration-200\")\n",
    "    print(len(a_tags))\n",
    "    if len(a_tags) == 1 and a_tags[0].get('aria-label') == \"prev\":\n",
    "        break\n",
    "\n",
    "    for a_tag in a_tags:\n",
    "        if a_tag.get('aria-label') == \"next\":\n",
    "            url = \"https://www.century21.fr\" + a_tag.get('href')\n",
    "            request_text = request.urlopen(url).read()\n",
    "            page = bs4.BeautifulSoup(request_text, \"lxml\")\n",
    "\n",
    "    annonces = page.find_all(class_=\"js-the-list-of-properties-list-property\")\n",
    "    data += get_info(annonces)"
   ]
  },
  {
   "cell_type": "code",
   "execution_count": 219,
   "metadata": {},
   "outputs": [
    {
     "name": "stdout",
     "output_type": "stream",
     "text": [
      "Fichier \"century21Paris.csv\" créé avec succès.\n"
     ]
    }
   ],
   "source": [
    "filename = 'century21Paris.csv'\n",
    "labels = ['Ville', 'Arrondissement', 'Surface (m2)', 'Pièce(s)', 'Prix (€)']\n",
    "data.insert(0, labels)\n",
    "# Création et écriture dans le fichier CSV\n",
    "with open(filename, mode='w', newline='', encoding='utf-8') as file:\n",
    "    writer = csv.writer(file)\n",
    "    \n",
    "    # Écriture de chaque ligne sélectionnée dans le fichier CSV\n",
    "    for line in data:\n",
    "        writer.writerow([line[0], line[1], line[2], line[3], line[4]])\n",
    "\n",
    "print(f'Fichier \"{filename}\" créé avec succès.')"
   ]
  }
 ],
 "metadata": {
  "kernelspec": {
   "display_name": "base",
   "language": "python",
   "name": "python3"
  },
  "language_info": {
   "codemirror_mode": {
    "name": "ipython",
    "version": 3
   },
   "file_extension": ".py",
   "mimetype": "text/x-python",
   "name": "python",
   "nbconvert_exporter": "python",
   "pygments_lexer": "ipython3",
   "version": "3.11.7"
  }
 },
 "nbformat": 4,
 "nbformat_minor": 2
}
