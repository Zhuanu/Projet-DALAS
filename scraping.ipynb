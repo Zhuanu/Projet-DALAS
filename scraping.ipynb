{
 "cells": [
  {
   "cell_type": "markdown",
   "metadata": {},
   "source": []
  },
  {
   "cell_type": "code",
   "execution_count": 51,
   "metadata": {},
   "outputs": [],
   "source": [
    "import bs4\n",
    "import pandas as pd\n",
    "import csv\n",
    "import re\n",
    "\n",
    "from urllib import request\n",
    "\n",
    "import time\n",
    "import requests\n",
    "from lxml import html"
   ]
  },
  {
   "cell_type": "markdown",
   "metadata": {},
   "source": [
    "### Scrapping du site Century21"
   ]
  },
  {
   "cell_type": "code",
   "execution_count": 52,
   "metadata": {},
   "outputs": [],
   "source": [
    "base_url = \"https://www.century21.fr/annonces/location-appartement/v-paris/\"\n",
    "url = \"https://www.century21.fr/annonces/location-appartement/v-paris/page-2/\"\n",
    "request_text = request.urlopen(base_url).read()\n",
    "page = bs4.BeautifulSoup(request_text, \"lxml\")"
   ]
  },
  {
   "cell_type": "code",
   "execution_count": 53,
   "metadata": {},
   "outputs": [],
   "source": [
    "# Fonction pour remplacer la première virgule par un point avant \"m2\"\n",
    "def replace_comma_with_dot_before_m2(text):\n",
    "    return re.sub(r'(\\d+),(\\d+\\s*m2)', r'\\1.\\2', text, 1)\n",
    "\n",
    "def delete_m2(text):\n",
    "    return re.sub(r'(\\d+\\s*) m2', r'\\1', text, 1)\n",
    "\n",
    "def delete_pieces(text):\n",
    "    return re.sub(r' (\\d+\\s*) pièce.*', r'\\1', text, 1)\n",
    "\n",
    "def delete_euro(text):\n",
    "    return re.sub(r'€', '', text, 1)\n",
    "\n",
    "\n",
    "def get_info(annonces):\n",
    "    infos = []\n",
    "    for annonce in annonces:\n",
    "        info = annonce.find(class_=\"c-text-theme-heading-4 tw-text-c21-grey-darker tw-font-semibold\")\n",
    "        prix = annonce.find(class_=\"c-text-theme-heading-1 is-constant-size-on-mobile tw-mt-2 tablet-landscape:tw-mt-0 tw-whitespace-nowrap\")\n",
    "        line = info.get_text().strip().split(\"\\n\")\n",
    "        res = []\n",
    "        res.append(line[0].strip())\n",
    "        res.append(line[2].strip())\n",
    "        modified_string = line[5].strip()\n",
    "        modified_string = replace_comma_with_dot_before_m2(modified_string).split(\",\")\n",
    "        modified_string[0] = delete_m2(modified_string[0])\n",
    "        modified_string[1] = delete_pieces(modified_string[1])\n",
    "        res.append(modified_string[0])\n",
    "        res.append(modified_string[1])\n",
    "        modified_string = prix.get_text().strip().split(\"\\n\")[0]\n",
    "        modified_string = modified_string.replace(\" \", \"\")\n",
    "        modified_string = delete_euro(modified_string)\n",
    "        res.append(modified_string)\n",
    "        infos.append(res)\n",
    "    return infos\n",
    "\n",
    "\n",
    "annonces = page.find_all(class_=\"js-the-list-of-properties-list-property\")\n",
    "data = get_info(annonces)\n",
    "while True:\n",
    "    a_tags = page.find_all(class_=\"c-the-pagination-bar__item tw-flex tw-items-center tw-justify-center tw-w-10 tw-h-10 tw-bg-c21-gold tw-text-white tw-transition-colors tw-duration-200\")\n",
    "    if len(a_tags) == 1 and a_tags[0].get('aria-label') == \"prev\":\n",
    "        break\n",
    "\n",
    "    for a_tag in a_tags:\n",
    "        if a_tag.get('aria-label') == \"next\":\n",
    "            url = \"https://www.century21.fr\" + a_tag.get('href')\n",
    "            request_text = request.urlopen(url).read()\n",
    "            page = bs4.BeautifulSoup(request_text, \"lxml\")\n",
    "\n",
    "    annonces = page.find_all(class_=\"js-the-list-of-properties-list-property\")\n",
    "    data += get_info(annonces)"
   ]
  },
  {
   "cell_type": "code",
   "execution_count": 54,
   "metadata": {},
   "outputs": [
    {
     "name": "stdout",
     "output_type": "stream",
     "text": [
      "Fichier \"century21Paris.csv\" créé avec succès.\n"
     ]
    }
   ],
   "source": [
    "filename = 'century21Paris.csv'\n",
    "labels = ['Ville', 'Arrondissement', 'Surface (m2)', 'Pièce(s)', 'Prix (€)']\n",
    "data.insert(0, labels)\n",
    "# Création et écriture dans le fichier CSV\n",
    "with open(filename, mode='w', newline='', encoding='utf-8') as file:\n",
    "    writer = csv.writer(file)\n",
    "    \n",
    "    # Écriture de chaque ligne sélectionnée dans le fichier CSV\n",
    "    for line in data:\n",
    "        writer.writerow([line[0], line[1], line[2], line[3], line[4]])\n",
    "\n",
    "print(f'Fichier \"{filename}\" créé avec succès.')"
   ]
  },
  {
   "cell_type": "markdown",
   "metadata": {},
   "source": [
    "### Scrapping de immo-data (statistiques de ventes)"
   ]
  },
  {
   "cell_type": "code",
   "execution_count": 67,
   "metadata": {},
   "outputs": [],
   "source": [
    "def get_ventes_liste(request_text, arrondissement, verbose=False, empty_elements=False) :\n",
    "    \n",
    "    ventes_liste = []\n",
    "    page = bs4.BeautifulSoup(request_text, \"lxml\")\n",
    "    ventes = page.find_all(class_=\"border-b-gray-100\")\n",
    "\n",
    "    for v in ventes :\n",
    "        print(\"----------------------------------------------\") if verbose else None\n",
    "\n",
    "        # Features principaux\n",
    "        features_list1 = v.find(class_=\"gap-8\")\n",
    "        print(features_list1.find(\"p\").text) if verbose else None\n",
    "        print([feature.text for feature in features_list1.find_all(\"span\")]) if verbose else None\n",
    "\n",
    "        # Features dans les 'boîtes'\n",
    "        features_list2 = v.find(class_=\"gap-5\")\n",
    "        features_list3 = []\n",
    "        for child in features_list2.children :\n",
    "            print(\"--------\") if verbose else None\n",
    "            for grandchild in child.children :\n",
    "                print(grandchild.text) if verbose else None\n",
    "                features_list3.append(grandchild.text)\n",
    "\n",
    "        # Tout récupérer sous forme de liste\n",
    "        print(\"--------\") if verbose else None\n",
    "        try :\n",
    "            fullAdresse = features_list1.find(\"p\").text.split(\" - \")\n",
    "            adresse = fullAdresse[0]\n",
    "            paris = fullAdresse[1]\n",
    "            vente_element = [\n",
    "                adresse,                                                    # Adresse\n",
    "                paris,                                                      # Paris\n",
    "                \"750\" + arrondissement,                                # Arrondissement\n",
    "                features_list1.find(\"span\").text,                           # Type (Appartement, Maison)\n",
    "                re.sub(r'\\D', '', features_list1.find_all(\"span\")[1].text), # Prix\n",
    "                re.sub(r'\\D', '', features_list1.find_all(\"span\")[2].text), # Prix par mois\n",
    "                features_list3[1],                                          # Nombre de pièces\n",
    "                re.sub(r'\\D', '', features_list3[3]),                       # Surface en m²\n",
    "                features_list3[5],                                          # Date de vente\n",
    "            ]\n",
    "        \n",
    "            print(\"--> \", vente_element) if verbose else None\n",
    "            ventes_liste.append(vente_element)\n",
    "\n",
    "        except :\n",
    "            ventes_liste.append([]) if empty_elements else None # On n'a pas toutes les infos\n",
    "\n",
    "    return ventes_liste\n",
    "\n",
    "    # Adresse, type, prix, prix_mois, nb_pieces, surface, vendu_le"
   ]
  },
  {
   "cell_type": "code",
   "execution_count": 73,
   "metadata": {},
   "outputs": [],
   "source": [
    "from selenium import webdriver\n",
    "from selenium.webdriver.chrome.options import Options\n",
    "\n",
    "# liste de lien pour chaque arrondissement dans l'ordre\n",
    "arrondissements = [\n",
    "    \"https://www.immo-data.fr/explorateur/transaction/recherche?minprice=0&maxprice=25000000&minpricesquaremeter=0&maxpricesquaremeter=40000&propertytypes=0%2C1%2C2%2C4%2C5&minmonthyear=Janvier%202014&maxmonthyear=Juin%202023&nbrooms=1%2C2%2C3%2C4%2C5&minsurface=0&maxsurface=400&minsurfaceland=0&maxsurfaceland=50000&center=2.334625%3B48.864198&zoom=17.499300294315052\",\n",
    "    \"https://www.immo-data.fr/explorateur/transaction/recherche?minprice=0&maxprice=25000000&minpricesquaremeter=0&maxpricesquaremeter=40000&propertytypes=0%2C1%2C2%2C4%2C5&minmonthyear=Janvier%202014&maxmonthyear=Juin%202023&nbrooms=1%2C2%2C3%2C4%2C5&minsurface=0&maxsurface=400&minsurfaceland=0&maxsurfaceland=50000&center=2.342451%3B48.86857&zoom=17.119966283918643\",\n",
    "    \"https://www.immo-data.fr/explorateur/transaction/recherche?minprice=0&maxprice=25000000&minpricesquaremeter=0&maxpricesquaremeter=40000&propertytypes=0%2C1%2C2%2C4%2C5&minmonthyear=Janvier%202014&maxmonthyear=Juin%202023&nbrooms=1%2C2%2C3%2C4%2C5&minsurface=0&maxsurface=400&minsurfaceland=0&maxsurfaceland=50000&center=2.360895%3B48.86467&zoom=17.84486019752125\",\n",
    "    \"https://www.immo-data.fr/explorateur/transaction/recherche?minprice=0&maxprice=25000000&minpricesquaremeter=0&maxpricesquaremeter=40000&propertytypes=0%2C1%2C2%2C4%2C5&minmonthyear=Janvier%202014&maxmonthyear=Juin%202023&nbrooms=1%2C2%2C3%2C4%2C5&minsurface=0&maxsurface=400&minsurfaceland=0&maxsurfaceland=50000&center=2.356049%3B48.855975&zoom=17.386300255349592\",\n",
    "    \"https://www.immo-data.fr/explorateur/transaction/recherche?minprice=0&maxprice=25000000&minpricesquaremeter=0&maxpricesquaremeter=40000&propertytypes=0%2C1%2C2%2C4%2C5&minmonthyear=Janvier%202014&maxmonthyear=Juin%202023&nbrooms=1%2C2%2C3%2C4%2C5&minsurface=0&maxsurface=400&minsurfaceland=0&maxsurfaceland=50000&center=2.345911%3B48.845679&zoom=16.887166338911186\",\n",
    "    \"https://www.immo-data.fr/explorateur/transaction/recherche?minprice=0&maxprice=25000000&minpricesquaremeter=0&maxpricesquaremeter=40000&propertytypes=0%2C1%2C2%2C4%2C5&minmonthyear=Janvier%202014&maxmonthyear=Juin%202023&nbrooms=1%2C2%2C3%2C4%2C5&minsurface=0&maxsurface=400&minsurfaceland=0&maxsurfaceland=50000&center=2.333295%3B48.850064&zoom=17.062166414429374\",\n",
    "    \"https://www.immo-data.fr/explorateur/transaction/recherche?minprice=0&maxprice=25000000&minpricesquaremeter=0&maxpricesquaremeter=40000&propertytypes=0%2C1%2C2%2C4%2C5&minmonthyear=Janvier%202014&maxmonthyear=Juin%202023&nbrooms=1%2C2%2C3%2C4%2C5&minsurface=0&maxsurface=400&minsurfaceland=0&maxsurfaceland=50000&center=2.319132%3B48.85654&zoom=17.203135974751085\",\n",
    "    \"https://www.immo-data.fr/explorateur/transaction/recherche?minprice=0&maxprice=25000000&minpricesquaremeter=0&maxpricesquaremeter=40000&propertytypes=0%2C1%2C2%2C4%2C5&minmonthyear=Janvier%202014&maxmonthyear=Juin%202023&nbrooms=1%2C2%2C3%2C4%2C5&minsurface=0&maxsurface=400&minsurfaceland=0&maxsurfaceland=50000&center=2.31728%3B48.877229&zoom=17.007511233556734\",\n",
    "    \"https://www.immo-data.fr/explorateur/transaction/recherche?minprice=0&maxprice=25000000&minpricesquaremeter=0&maxpricesquaremeter=40000&propertytypes=0%2C1%2C2%2C4%2C5&minmonthyear=Janvier%202014&maxmonthyear=Juin%202023&nbrooms=1%2C2%2C3%2C4%2C5&minsurface=0&maxsurface=400&minsurfaceland=0&maxsurfaceland=50000&center=2.339573%3B48.876424&zoom=17.661253077568162\",\n",
    "    \"https://www.immo-data.fr/explorateur/transaction/recherche?minprice=0&maxprice=25000000&minpricesquaremeter=0&maxpricesquaremeter=40000&propertytypes=0%2C1%2C2%2C4%2C5&minmonthyear=Janvier%202014&maxmonthyear=Juin%202023&nbrooms=1%2C2%2C3%2C4%2C5&minsurface=0&maxsurface=400&minsurfaceland=0&maxsurfaceland=50000&center=2.359902%3B48.876323&zoom=16.57562406411128\",\n",
    "    \"https://www.immo-data.fr/explorateur/transaction/recherche?minprice=0&maxprice=25000000&minpricesquaremeter=0&maxpricesquaremeter=40000&propertytypes=0%2C1%2C2%2C4%2C5&minmonthyear=Janvier%202014&maxmonthyear=Juin%202023&nbrooms=1%2C2%2C3%2C4%2C5&minsurface=0&maxsurface=400&minsurfaceland=0&maxsurfaceland=50000&center=2.379884%3B48.858611&zoom=17.50790010548914\",\n",
    "    \"https://www.immo-data.fr/explorateur/transaction/recherche?minprice=0&maxprice=25000000&minpricesquaremeter=0&maxpricesquaremeter=40000&propertytypes=0%2C1%2C2%2C4%2C5&minmonthyear=Janvier%202014&maxmonthyear=Juin%202023&nbrooms=1%2C2%2C3%2C4%2C5&minsurface=0&maxsurface=400&minsurfaceland=0&maxsurfaceland=50000&center=2.397937%3B48.839398&zoom=17.795507159821344\",\n",
    "    \"https://www.immo-data.fr/explorateur/transaction/recherche?minprice=0&maxprice=25000000&minpricesquaremeter=0&maxpricesquaremeter=40000&propertytypes=0%2C1%2C2%2C4%2C5&minmonthyear=Janvier%202014&maxmonthyear=Juin%202023&nbrooms=1%2C2%2C3%2C4%2C5&minsurface=0&maxsurface=400&minsurfaceland=0&maxsurfaceland=50000&center=2.356674%3B48.832128&zoom=16.744685743179307\",\n",
    "    \"https://www.immo-data.fr/explorateur/transaction/recherche?minprice=0&maxprice=25000000&minpricesquaremeter=0&maxpricesquaremeter=40000&propertytypes=0%2C1%2C2%2C4%2C5&minmonthyear=Janvier%202014&maxmonthyear=Juin%202023&nbrooms=1%2C2%2C3%2C4%2C5&minsurface=0&maxsurface=400&minsurfaceland=0&maxsurfaceland=50000&center=2.326572%3B48.832711&zoom=17.203192923611237\",\n",
    "    \"https://www.immo-data.fr/explorateur/transaction/recherche?minprice=0&maxprice=25000000&minpricesquaremeter=0&maxpricesquaremeter=40000&propertytypes=0%2C1%2C2%2C4%2C5&minmonthyear=Janvier%202014&maxmonthyear=Juin%202023&nbrooms=1%2C2%2C3%2C4%2C5&minsurface=0&maxsurface=400&minsurfaceland=0&maxsurfaceland=50000&center=2.299972%3B48.840821&zoom=17.776689723942038\",\n",
    "    \"https://www.immo-data.fr/explorateur/transaction/recherche?minprice=0&maxprice=25000000&minpricesquaremeter=0&maxpricesquaremeter=40000&propertytypes=0%2C1%2C2%2C4%2C5&minmonthyear=Janvier%202014&maxmonthyear=Juin%202023&nbrooms=1%2C2%2C3%2C4%2C5&minsurface=0&maxsurface=400&minsurfaceland=0&maxsurfaceland=50000&center=2.27507%3B48.863143&zoom=17.1876410650208\",\n",
    "    \"https://www.immo-data.fr/explorateur/transaction/recherche?minprice=0&maxprice=25000000&minpricesquaremeter=0&maxpricesquaremeter=40000&propertytypes=0%2C1%2C2%2C4%2C5&minmonthyear=Janvier%202014&maxmonthyear=Juin%202023&nbrooms=1%2C2%2C3%2C4%2C5&minsurface=0&maxsurface=400&minsurfaceland=0&maxsurfaceland=50000&center=2.322049%3B48.88398&zoom=17.80945163828482\",\n",
    "    \"https://www.immo-data.fr/explorateur/transaction/recherche?minprice=0&maxprice=25000000&minpricesquaremeter=0&maxpricesquaremeter=40000&propertytypes=0%2C1%2C2%2C4%2C5&minmonthyear=Janvier%202014&maxmonthyear=Juin%202023&nbrooms=1%2C2%2C3%2C4%2C5&minsurface=0&maxsurface=400&minsurfaceland=0&maxsurfaceland=50000&center=2.346961%3B48.889737&zoom=17.59322739015418\",\n",
    "    \"https://www.immo-data.fr/explorateur/transaction/recherche?minprice=0&maxprice=25000000&minpricesquaremeter=0&maxpricesquaremeter=40000&propertytypes=0%2C1%2C2%2C4%2C5&minmonthyear=Janvier%202014&maxmonthyear=Juin%202023&nbrooms=1%2C2%2C3%2C4%2C5&minsurface=0&maxsurface=400&minsurfaceland=0&maxsurfaceland=50000&center=2.384186%3B48.888629&zoom=17.14746056293807\",\n",
    "    \"https://www.immo-data.fr/explorateur/transaction/recherche?minprice=0&maxprice=25000000&minpricesquaremeter=0&maxpricesquaremeter=40000&propertytypes=0%2C1%2C2%2C4%2C5&minmonthyear=Janvier%202014&maxmonthyear=Juin%202023&nbrooms=1%2C2%2C3%2C4%2C5&minsurface=0&maxsurface=400&minsurfaceland=0&maxsurfaceland=50000&center=2.398373%3B48.864875&zoom=17.329322339430156\"\n",
    "]\n",
    "\n",
    "# Configuration des options de Chrome\n",
    "chrome_options = Options()\n",
    "chrome_options.add_argument(\"--start-fullscreen\")\n",
    "driver = webdriver.Chrome(options=chrome_options)\n",
    "data = []\n",
    "i = 0\n",
    "for arrondissement in arrondissements:\n",
    "    driver.get(arrondissement)\n",
    "\n",
    "    time.sleep(10)\n",
    "\n",
    "    page_html = driver.page_source\n",
    "    arr = \"0\" + str(i + 1) if i < 9 else str(i + 1) # permet d'ajouter l'arrondissement dans le csv\n",
    "    data += get_ventes_liste(page_html, arr, verbose=False, empty_elements=False)\n",
    "    i += 1\n",
    "\n",
    "driver.quit()"
   ]
  },
  {
   "cell_type": "code",
   "execution_count": 74,
   "metadata": {},
   "outputs": [
    {
     "name": "stdout",
     "output_type": "stream",
     "text": [
      "Fichier \"immodataParis.csv\" créé avec succès.\n"
     ]
    }
   ],
   "source": [
    "filename = 'immodataParis.csv'\n",
    "labels = ['Adresse', 'Ville', 'Arrondissement', 'Type', 'Prix (€)', 'Prix mensuel (€)', 'Pièce(s)', 'Surface (m2)', 'Date de vente']\n",
    "data.insert(0, labels)\n",
    "# Création et écriture dans le fichier CSV\n",
    "with open(filename, mode='w', newline='', encoding='utf-8') as file:\n",
    "    writer = csv.writer(file)\n",
    "    \n",
    "    # Écriture de chaque ligne sélectionnée dans le fichier CSV\n",
    "    for line in data:\n",
    "        writer.writerow(line)\n",
    "\n",
    "print(f'Fichier \"{filename}\" créé avec succès.')\n"
   ]
  }
 ],
 "metadata": {
  "kernelspec": {
   "display_name": "base",
   "language": "python",
   "name": "python3"
  },
  "language_info": {
   "codemirror_mode": {
    "name": "ipython",
    "version": 3
   },
   "file_extension": ".py",
   "mimetype": "text/x-python",
   "name": "python",
   "nbconvert_exporter": "python",
   "pygments_lexer": "ipython3",
   "version": "3.11.7"
  }
 },
 "nbformat": 4,
 "nbformat_minor": 2
}
