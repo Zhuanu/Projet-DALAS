{
 "cells": [
  {
   "cell_type": "code",
   "execution_count": 4,
   "metadata": {},
   "outputs": [],
   "source": [
    "import pandas as pd\n",
    "import numpy as np\n",
    "import matplotlib.pyplot as plt\n",
    "from sklearn.preprocessing import StandardScaler"
   ]
  },
  {
   "cell_type": "code",
   "execution_count": 7,
   "metadata": {},
   "outputs": [
    {
     "data": {
      "text/html": [
       "<div>\n",
       "<style scoped>\n",
       "    .dataframe tbody tr th:only-of-type {\n",
       "        vertical-align: middle;\n",
       "    }\n",
       "\n",
       "    .dataframe tbody tr th {\n",
       "        vertical-align: top;\n",
       "    }\n",
       "\n",
       "    .dataframe thead th {\n",
       "        text-align: right;\n",
       "    }\n",
       "</style>\n",
       "<table border=\"1\" class=\"dataframe\">\n",
       "  <thead>\n",
       "    <tr style=\"text-align: right;\">\n",
       "      <th></th>\n",
       "      <th>Arrondissement</th>\n",
       "      <th>Prix (€)</th>\n",
       "      <th>Prix mensuel (€)</th>\n",
       "      <th>Pièce(s)</th>\n",
       "      <th>Surface (m2)</th>\n",
       "      <th>Date de vente</th>\n",
       "    </tr>\n",
       "  </thead>\n",
       "  <tbody>\n",
       "    <tr>\n",
       "      <th>0</th>\n",
       "      <td>75001</td>\n",
       "      <td>750400</td>\n",
       "      <td>14431</td>\n",
       "      <td>2</td>\n",
       "      <td>52</td>\n",
       "      <td>22/05/2023</td>\n",
       "    </tr>\n",
       "    <tr>\n",
       "      <th>1</th>\n",
       "      <td>75001</td>\n",
       "      <td>330000</td>\n",
       "      <td>14348</td>\n",
       "      <td>1</td>\n",
       "      <td>23</td>\n",
       "      <td>28/04/2023</td>\n",
       "    </tr>\n",
       "    <tr>\n",
       "      <th>2</th>\n",
       "      <td>75001</td>\n",
       "      <td>360100</td>\n",
       "      <td>15657</td>\n",
       "      <td>1</td>\n",
       "      <td>23</td>\n",
       "      <td>29/03/2023</td>\n",
       "    </tr>\n",
       "    <tr>\n",
       "      <th>3</th>\n",
       "      <td>75001</td>\n",
       "      <td>286123</td>\n",
       "      <td>11005</td>\n",
       "      <td>1</td>\n",
       "      <td>26</td>\n",
       "      <td>10/02/2023</td>\n",
       "    </tr>\n",
       "    <tr>\n",
       "      <th>4</th>\n",
       "      <td>75001</td>\n",
       "      <td>411636</td>\n",
       "      <td>12864</td>\n",
       "      <td>2</td>\n",
       "      <td>32</td>\n",
       "      <td>28/12/2022</td>\n",
       "    </tr>\n",
       "  </tbody>\n",
       "</table>\n",
       "</div>"
      ],
      "text/plain": [
       "   Arrondissement  Prix (€)  Prix mensuel (€)  Pièce(s)  Surface (m2)  \\\n",
       "0           75001    750400             14431         2            52   \n",
       "1           75001    330000             14348         1            23   \n",
       "2           75001    360100             15657         1            23   \n",
       "3           75001    286123             11005         1            26   \n",
       "4           75001    411636             12864         2            32   \n",
       "\n",
       "  Date de vente  \n",
       "0    22/05/2023  \n",
       "1    28/04/2023  \n",
       "2    29/03/2023  \n",
       "3    10/02/2023  \n",
       "4    28/12/2022  "
      ]
     },
     "execution_count": 7,
     "metadata": {},
     "output_type": "execute_result"
    }
   ],
   "source": [
    "# Chargement des données\n",
    "file_path = 'data/immodataParis.csv'\n",
    "data = pd.read_csv(file_path)\n",
    "\n",
    "df = data[['Arrondissement', 'Prix (€)',\n",
    "       'Prix mensuel (€)', 'Pièce(s)', 'Surface (m2)', 'Date de vente']].copy()\n",
    "\n",
    "df.head()"
   ]
  },
  {
   "cell_type": "code",
   "execution_count": null,
   "metadata": {},
   "outputs": [],
   "source": []
  }
 ],
 "metadata": {
  "kernelspec": {
   "display_name": "venv_ml",
   "language": "python",
   "name": "python3"
  },
  "language_info": {
   "codemirror_mode": {
    "name": "ipython",
    "version": 3
   },
   "file_extension": ".py",
   "mimetype": "text/x-python",
   "name": "python",
   "nbconvert_exporter": "python",
   "pygments_lexer": "ipython3",
   "version": "3.12.2"
  }
 },
 "nbformat": 4,
 "nbformat_minor": 2
}
