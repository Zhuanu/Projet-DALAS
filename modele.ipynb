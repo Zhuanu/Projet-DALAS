{
 "cells": [
  {
   "cell_type": "code",
   "execution_count": 75,
   "metadata": {},
   "outputs": [],
   "source": [
    "import pandas as pd\n",
    "import numpy as np\n",
    "import matplotlib.pyplot as plt\n",
    "import seaborn as sns\n",
    "import joblib\n",
    "import statsmodels.api as sm\n",
    "import statsmodels.formula.api as smf\n",
    "from statsmodels.stats.outliers_influence import variance_inflation_factor\n",
    "from statsmodels.stats.anova import anova_lm\n",
    "from sklearn.metrics import mean_squared_error, r2_score, mean_absolute_error, mean_absolute_percentage_error\n",
    "from sklearn.model_selection import train_test_split\n",
    "from sklearn.preprocessing import StandardScaler\n"
   ]
  },
  {
   "cell_type": "code",
   "execution_count": 76,
   "metadata": {},
   "outputs": [
    {
     "data": {
      "text/html": [
       "<div>\n",
       "<style scoped>\n",
       "    .dataframe tbody tr th:only-of-type {\n",
       "        vertical-align: middle;\n",
       "    }\n",
       "\n",
       "    .dataframe tbody tr th {\n",
       "        vertical-align: top;\n",
       "    }\n",
       "\n",
       "    .dataframe thead th {\n",
       "        text-align: right;\n",
       "    }\n",
       "</style>\n",
       "<table border=\"1\" class=\"dataframe\">\n",
       "  <thead>\n",
       "    <tr style=\"text-align: right;\">\n",
       "      <th></th>\n",
       "      <th>Arrondissement</th>\n",
       "      <th>Prix (€)</th>\n",
       "      <th>Prix mensuel (€)</th>\n",
       "      <th>Pièce(s)</th>\n",
       "      <th>Surface (m2)</th>\n",
       "    </tr>\n",
       "  </thead>\n",
       "  <tbody>\n",
       "    <tr>\n",
       "      <th>0</th>\n",
       "      <td>75001</td>\n",
       "      <td>750400</td>\n",
       "      <td>14431</td>\n",
       "      <td>2</td>\n",
       "      <td>52</td>\n",
       "    </tr>\n",
       "    <tr>\n",
       "      <th>1</th>\n",
       "      <td>75001</td>\n",
       "      <td>330000</td>\n",
       "      <td>14348</td>\n",
       "      <td>1</td>\n",
       "      <td>23</td>\n",
       "    </tr>\n",
       "    <tr>\n",
       "      <th>2</th>\n",
       "      <td>75001</td>\n",
       "      <td>360100</td>\n",
       "      <td>15657</td>\n",
       "      <td>1</td>\n",
       "      <td>23</td>\n",
       "    </tr>\n",
       "    <tr>\n",
       "      <th>3</th>\n",
       "      <td>75001</td>\n",
       "      <td>286123</td>\n",
       "      <td>11005</td>\n",
       "      <td>1</td>\n",
       "      <td>26</td>\n",
       "    </tr>\n",
       "    <tr>\n",
       "      <th>4</th>\n",
       "      <td>75001</td>\n",
       "      <td>411636</td>\n",
       "      <td>12864</td>\n",
       "      <td>2</td>\n",
       "      <td>32</td>\n",
       "    </tr>\n",
       "  </tbody>\n",
       "</table>\n",
       "</div>"
      ],
      "text/plain": [
       "   Arrondissement  Prix (€)  Prix mensuel (€)  Pièce(s)  Surface (m2)\n",
       "0           75001    750400             14431         2            52\n",
       "1           75001    330000             14348         1            23\n",
       "2           75001    360100             15657         1            23\n",
       "3           75001    286123             11005         1            26\n",
       "4           75001    411636             12864         2            32"
      ]
     },
     "execution_count": 76,
     "metadata": {},
     "output_type": "execute_result"
    }
   ],
   "source": [
    "# Chargement des données\n",
    "file_path = 'data/immodataParis.csv'\n",
    "base_data = pd.read_csv(file_path)\n",
    "\n",
    "data = base_data[['Arrondissement', 'Prix (€)',\n",
    "       'Prix mensuel (€)', 'Pièce(s)', 'Surface (m2)']].copy()\n",
    "\n",
    "df = pd.DataFrame(data)\n",
    "df.head()"
   ]
  },
  {
   "cell_type": "code",
   "execution_count": 77,
   "metadata": {},
   "outputs": [],
   "source": [
    "# Standardiser les données pour la regression\n",
    "scaler = StandardScaler()\n",
    "scaler.fit(data)\n",
    "data_scaled = scaler.transform(data)\n",
    "df = pd.DataFrame(data_scaled, columns=data.columns)"
   ]
  },
  {
   "cell_type": "markdown",
   "metadata": {},
   "source": [
    "### Vérification de la multicolinéarité"
   ]
  },
  {
   "cell_type": "code",
   "execution_count": 78,
   "metadata": {},
   "outputs": [
    {
     "name": "stdout",
     "output_type": "stream",
     "text": [
      "        Variables       VIF\n",
      "0           const  1.000000\n",
      "1    Surface (m2)  1.039003\n",
      "2        Pièce(s)  1.033087\n",
      "3  Arrondissement  1.007166\n"
     ]
    }
   ],
   "source": [
    "# Définir les variables indépendantes (X) et la variable dépendante (y)\n",
    "X = df[['Surface (m2)', 'Pièce(s)', 'Arrondissement']]\n",
    "y = df['Prix (€)']\n",
    "# Ajouter une constante pour l'interception\n",
    "X = sm.add_constant(X)\n",
    "\n",
    "vif = pd.DataFrame()\n",
    "vif[\"Variables\"] = X.columns\n",
    "vif[\"VIF\"] = [variance_inflation_factor(X.values, i) for i in range(X.shape[1])]\n",
    "print(vif)\n",
    "\n",
    "# Si les valeurs du VIF sont supérieur à 5-10, il y a une multicollinéarité"
   ]
  },
  {
   "cell_type": "markdown",
   "metadata": {},
   "source": [
    "Si les valeurs du VIF sont supérieur à 5-10, il y a une multicollinéarité, comme on peut le constater ils sont tous autour de 1 donc pas de problème de multicollinéarité"
   ]
  },
  {
   "cell_type": "markdown",
   "metadata": {},
   "source": [
    "### Anova"
   ]
  },
  {
   "cell_type": "code",
   "execution_count": 79,
   "metadata": {},
   "outputs": [
    {
     "name": "stdout",
     "output_type": "stream",
     "text": [
      "                            OLS Regression Results                            \n",
      "==============================================================================\n",
      "Dep. Variable:          Q(\"Prix (€)\")   R-squared:                       0.670\n",
      "Model:                            OLS   Adj. R-squared:                  0.669\n",
      "Method:                 Least Squares   F-statistic:                     52.43\n",
      "Date:                Thu, 23 May 2024   Prob (F-statistic):           2.28e-32\n",
      "Time:                        21:21:17   Log-Likelihood:                -1430.6\n",
      "No. Observations:                1654   AIC:                             2869.\n",
      "Df Residuals:                    1650   BIC:                             2891.\n",
      "Df Model:                           3                                         \n",
      "Covariance Type:                  HC3                                         \n",
      "=======================================================================================\n",
      "                          coef    std err          z      P>|z|      [0.025      0.975]\n",
      "---------------------------------------------------------------------------------------\n",
      "Intercept             8.52e-14      0.014   5.89e-12      1.000      -0.028       0.028\n",
      "Q(\"Surface (m2)\")       0.8024      0.084      9.520      0.000       0.637       0.968\n",
      "Q(\"Pièce(s)\")           0.0210      0.029      0.726      0.468      -0.036       0.078\n",
      "Q(\"Arrondissement\")    -0.0909      0.011     -8.501      0.000      -0.112      -0.070\n",
      "==============================================================================\n",
      "Omnibus:                     2581.668   Durbin-Watson:                   1.822\n",
      "Prob(Omnibus):                  0.000   Jarque-Bera (JB):          3595570.070\n",
      "Skew:                           9.095   Prob(JB):                         0.00\n",
      "Kurtosis:                     230.688   Cond. No.                         1.22\n",
      "==============================================================================\n",
      "\n",
      "Notes:\n",
      "[1] Standard Errors are heteroscedasticity robust (HC3)\n"
     ]
    }
   ],
   "source": [
    "# Ajuster le modèle de régression linéaire en utilisant une formule\n",
    "formula = 'Q(\"Prix (€)\") ~ Q(\"Surface (m2)\") + Q(\"Pièce(s)\") + Q(\"Arrondissement\")'\n",
    "model = smf.ols(formula=formula, data=df).fit(cov_type='HC3')\n",
    "\n",
    "# Résumé du modèle\n",
    "print(model.summary())"
   ]
  },
  {
   "cell_type": "code",
   "execution_count": 80,
   "metadata": {},
   "outputs": [
    {
     "name": "stdout",
     "output_type": "stream",
     "text": [
      "                         df       sum_sq      mean_sq            F  \\\n",
      "Q(\"Surface (m2)\")       1.0  1093.760234  1093.760234  3304.389065   \n",
      "Q(\"Pièce(s)\")           1.0     0.517396     0.517396     1.563118   \n",
      "Q(\"Arrondissement\")     1.0    13.568649    13.568649    40.992617   \n",
      "Residual             1650.0   546.153722     0.331002          NaN   \n",
      "\n",
      "                           PR(>F)  \n",
      "Q(\"Surface (m2)\")    0.000000e+00  \n",
      "Q(\"Pièce(s)\")        2.113865e-01  \n",
      "Q(\"Arrondissement\")  1.986956e-10  \n",
      "Residual                      NaN  \n"
     ]
    }
   ],
   "source": [
    "# Effectuer l'ANOVA\n",
    "anova_results = anova_lm(model)\n",
    "print(anova_results)"
   ]
  },
  {
   "cell_type": "markdown",
   "metadata": {},
   "source": [
    "Les variables Surface et Arrondissement sont des variables explicatives significatives pour le prix des appartements, comme on peut le constater avec une p-value nulle et une extrêmement petite respectivement. Contrairement à la variable Pièces qui possède une p-value de 0.21 > 0.05, ce qui signifie que cette variable n'apporte pas d'information supplémentaire significative pour expliquer la variance des prix des appartements."
   ]
  },
  {
   "cell_type": "markdown",
   "metadata": {},
   "source": [
    "### Prédiction du prix"
   ]
  },
  {
   "cell_type": "code",
   "execution_count": 81,
   "metadata": {},
   "outputs": [
    {
     "name": "stdout",
     "output_type": "stream",
     "text": [
      "                            OLS Regression Results                            \n",
      "==============================================================================\n",
      "Dep. Variable:          Q(\"Prix (€)\")   R-squared:                       0.658\n",
      "Model:                            OLS   Adj. R-squared:                  0.657\n",
      "Method:                 Least Squares   F-statistic:                     32.44\n",
      "Date:                Thu, 23 May 2024   Prob (F-statistic):           3.93e-20\n",
      "Time:                        21:21:17   Log-Likelihood:                -1126.4\n",
      "No. Observations:                1157   AIC:                             2261.\n",
      "Df Residuals:                    1153   BIC:                             2281.\n",
      "Df Model:                           3                                         \n",
      "Covariance Type:                  HC3                                         \n",
      "=======================================================================================\n",
      "                          coef    std err          z      P>|z|      [0.025      0.975]\n",
      "---------------------------------------------------------------------------------------\n",
      "Intercept               0.0051      0.018      0.285      0.776      -0.030       0.040\n",
      "Q(\"Surface (m2)\")       0.8184      0.106      7.749      0.000       0.611       1.025\n",
      "Q(\"Pièce(s)\")           0.0197      0.030      0.657      0.511      -0.039       0.078\n",
      "Q(\"Arrondissement\")    -0.0911      0.014     -6.469      0.000      -0.119      -0.063\n",
      "==============================================================================\n",
      "Omnibus:                     1799.294   Durbin-Watson:                   1.997\n",
      "Prob(Omnibus):                  0.000   Jarque-Bera (JB):          1977608.339\n",
      "Skew:                           8.907   Prob(JB):                         0.00\n",
      "Kurtosis:                     204.754   Cond. No.                         1.29\n",
      "==============================================================================\n",
      "\n",
      "Notes:\n",
      "[1] Standard Errors are heteroscedasticity robust (HC3)\n"
     ]
    }
   ],
   "source": [
    "# Diviser les données en ensembles d'entraînement et de test\n",
    "train_data, test_data = train_test_split(df, test_size=0.3, random_state=123)\n",
    "\n",
    "# Ajuster le modèle de régression linéaire en utilisant une formule\n",
    "formula = 'Q(\"Prix (€)\") ~ Q(\"Surface (m2)\") + Q(\"Pièce(s)\") + Q(\"Arrondissement\")'\n",
    "model = smf.ols(formula=formula, data=train_data).fit(cov_type='HC3')\n",
    "\n",
    "# Résumé du modèle\n",
    "print(model.summary())\n",
    "\n",
    "# Prédire les prix sur les données de test\n",
    "predictions = model.predict(test_data)\n",
    "\n",
    "# Évaluer les performances du modèle\n",
    "rmse = np.sqrt(mean_squared_error(test_data['Prix (€)'], predictions))\n",
    "mae = mean_absolute_error(test_data['Prix (€)'], predictions)\n",
    "mape = mean_absolute_percentage_error(test_data['Prix (€)'], predictions)\n",
    "r2 = r2_score(test_data['Prix (€)'], predictions)"
   ]
  },
  {
   "cell_type": "markdown",
   "metadata": {},
   "source": [
    "### Significativité du Modèle\n",
    "Le coefficient de détermination (R²) est de 0.658, ce qui signifie que 65.8% de la variance du prix des appartements est expliquée par les variables incluses dans le modèle. Le R² ajusté, qui prend en compte le nombre de prédicteurs, est de 0.657, suggérant que le modèle a une bonne capacité explicative avec un ajustement minimal pour le nombre de variables. La statistique F est de 32.44, avec une p-value associée très faible (3.93e-20), confirmant que le modèle global est statistiquement significatif.\n",
    "\n",
    "### Interprétation des Coefficients\n",
    "L'intercept a une p-value de 0.776, ce qui n'est pas statistiquement significatif. Cela signifie que, selon ce modèle, la constante n'ajoute pas de valeur significative à la prédiction du prix des appartements. Le coefficient de la surface (Q(\"Surface (m2)\")) a une p-value de 0.000, indiquant qu'il est hautement significatif. Cela montre que la surface en mètres carrés est un facteur important pour expliquer les variations du prix des appartements. Le coefficient du nombre de pièces (Q(\"Pièce(s)\")) a une p-value de 0.511, ce qui n'est pas statistiquement significatif. Cela suggère que, dans ce modèle, le nombre de pièces n'a pas un impact significatif sur le prix des appartements. En revanche, le coefficient de l'arrondissement (Q(\"Arrondissement\")) a une p-value de 0.000, indiquant qu'il est également un facteur significatif. Un arrondissement plus élevé est associé à une diminution du prix des appartements, toutes choses égales par ailleurs.\n",
    "\n",
    "### Diagnostics du Modèle\n",
    "Les diagnostics du modèle révèlent quelques préoccupations. La statistique Omnibus et sa p-value associée indiquent que les résidus ne sont pas normalement distribués, ce qui pourrait suggérer des problèmes avec les hypothèses du modèle. La statistique de Durbin-Watson est de 1.997, suggérant une faible autocorrélation des résidus, ce qui est favorable pour l'indépendance des erreurs. La statistique Jarque-Bera est extrêmement élevée, indiquant que les résidus s'écartent fortement d'une distribution normale. Cela est corroboré par la kurtosis de 204.754, qui suggère une distribution des résidus avec des queues très lourdes, signalant la présence de nombreux outliers. Enfin, le numéro de condition est de 1.29, ce qui est relativement faible et n'indique pas de problèmes de multicolinéarité dans ce modèle."
   ]
  },
  {
   "cell_type": "code",
   "execution_count": 82,
   "metadata": {},
   "outputs": [
    {
     "name": "stdout",
     "output_type": "stream",
     "text": [
      "Mean Squared Error: 0.3801101286920795\n",
      "Mean Absolute Error: 0.21152228324706956\n",
      "R²: 0.7271950333566979\n",
      "Mean Absolute Percentage Error: 1.8449259205727384% accuracy\n"
     ]
    }
   ],
   "source": [
    "print(f'Mean Squared Error: {rmse}')\n",
    "print(f'Mean Absolute Error: {mae}')\n",
    "print(f'R²: {r2}')\n",
    "\n",
    "# Après standardisation les données n'ont pas vraiment de sens, on va donc se concentrer sur le  pourcentage d'erreur\n",
    "print(f'Mean Absolute Percentage Error: {mape}% accuracy')"
   ]
  },
  {
   "cell_type": "markdown",
   "metadata": {},
   "source": [
    "Apres avoir trouvé un modele linéaire pour notre jeu de données sur les données quantitative, on va faire intervenir la date.\n",
    "On veut pouvoir prédire l'évolution d'un bien par rapport au temps, par exemple quel sera le prix d'une maison de 30m carré qui est vendu en 2050.\n",
    "Pour cela, on va créer une nouvelle variable quantitative basé sur les dates que nous avons."
   ]
  },
  {
   "cell_type": "markdown",
   "metadata": {},
   "source": [
    "## Prédiction avec la date"
   ]
  },
  {
   "cell_type": "code",
   "execution_count": 83,
   "metadata": {},
   "outputs": [
    {
     "name": "stdout",
     "output_type": "stream",
     "text": [
      "Arrondissement      False\n",
      "Prix (€)            False\n",
      "Prix mensuel (€)    False\n",
      "Pièce(s)            False\n",
      "Surface (m2)        False\n",
      "Jours écoulés        True\n",
      "dtype: bool\n"
     ]
    },
    {
     "data": {
      "text/html": [
       "<div>\n",
       "<style scoped>\n",
       "    .dataframe tbody tr th:only-of-type {\n",
       "        vertical-align: middle;\n",
       "    }\n",
       "\n",
       "    .dataframe tbody tr th {\n",
       "        vertical-align: top;\n",
       "    }\n",
       "\n",
       "    .dataframe thead th {\n",
       "        text-align: right;\n",
       "    }\n",
       "</style>\n",
       "<table border=\"1\" class=\"dataframe\">\n",
       "  <thead>\n",
       "    <tr style=\"text-align: right;\">\n",
       "      <th></th>\n",
       "      <th>Arrondissement</th>\n",
       "      <th>Prix (€)</th>\n",
       "      <th>Prix mensuel (€)</th>\n",
       "      <th>Pièce(s)</th>\n",
       "      <th>Surface (m2)</th>\n",
       "      <th>Jours écoulés</th>\n",
       "    </tr>\n",
       "  </thead>\n",
       "  <tbody>\n",
       "    <tr>\n",
       "      <th>0</th>\n",
       "      <td>75001</td>\n",
       "      <td>750400</td>\n",
       "      <td>14431</td>\n",
       "      <td>2</td>\n",
       "      <td>52</td>\n",
       "      <td>2428.0</td>\n",
       "    </tr>\n",
       "    <tr>\n",
       "      <th>1</th>\n",
       "      <td>75001</td>\n",
       "      <td>330000</td>\n",
       "      <td>14348</td>\n",
       "      <td>1</td>\n",
       "      <td>23</td>\n",
       "      <td>2404.0</td>\n",
       "    </tr>\n",
       "    <tr>\n",
       "      <th>2</th>\n",
       "      <td>75001</td>\n",
       "      <td>360100</td>\n",
       "      <td>15657</td>\n",
       "      <td>1</td>\n",
       "      <td>23</td>\n",
       "      <td>2374.0</td>\n",
       "    </tr>\n",
       "    <tr>\n",
       "      <th>3</th>\n",
       "      <td>75001</td>\n",
       "      <td>286123</td>\n",
       "      <td>11005</td>\n",
       "      <td>1</td>\n",
       "      <td>26</td>\n",
       "      <td>2327.0</td>\n",
       "    </tr>\n",
       "    <tr>\n",
       "      <th>4</th>\n",
       "      <td>75001</td>\n",
       "      <td>411636</td>\n",
       "      <td>12864</td>\n",
       "      <td>2</td>\n",
       "      <td>32</td>\n",
       "      <td>2283.0</td>\n",
       "    </tr>\n",
       "  </tbody>\n",
       "</table>\n",
       "</div>"
      ],
      "text/plain": [
       "   Arrondissement  Prix (€)  Prix mensuel (€)  Pièce(s)  Surface (m2)  \\\n",
       "0           75001    750400             14431         2            52   \n",
       "1           75001    330000             14348         1            23   \n",
       "2           75001    360100             15657         1            23   \n",
       "3           75001    286123             11005         1            26   \n",
       "4           75001    411636             12864         2            32   \n",
       "\n",
       "   Jours écoulés  \n",
       "0         2428.0  \n",
       "1         2404.0  \n",
       "2         2374.0  \n",
       "3         2327.0  \n",
       "4         2283.0  "
      ]
     },
     "execution_count": 83,
     "metadata": {},
     "output_type": "execute_result"
    }
   ],
   "source": [
    "dfDate = base_data[['Arrondissement', 'Prix (€)',\n",
    "       'Prix mensuel (€)', 'Pièce(s)', 'Surface (m2)', 'Date de vente']].copy()\n",
    "\n",
    "# Obtenir les jours écoulés depuis la première vente du dataset, ainsi on peut manipuler les dates comme une variable quantitative\n",
    "dfDate['Date de vente'] = pd.to_datetime(dfDate['Date de vente'], format='%d/%m/%Y', errors='coerce')\n",
    "reference_date = dfDate['Date de vente'].min()\n",
    "dfDate['Jours écoulés'] = (dfDate['Date de vente'] - reference_date).dt.days\n",
    "\n",
    "# Supprimer la colonne Date de vente sinon nous ne pouvons pas standardiser les données\n",
    "dfDate = dfDate.drop(columns=['Date de vente'])\n",
    "\n",
    "# Suppression d'un outlier\n",
    "dfDate = dfDate[(dfDate['Prix (€)'] <= 10000000)]\n",
    "\n",
    "# Vérifier les valeurs manquantes\n",
    "print(dfDate.isna().any())\n",
    "dfDate = dfDate.dropna()\n",
    "\n",
    "dfDate.head()"
   ]
  },
  {
   "cell_type": "code",
   "execution_count": 84,
   "metadata": {},
   "outputs": [],
   "source": [
    "# Enregistrer la date de référence dans un fichier texte\n",
    "with open('reference_date.txt', 'w') as file:\n",
    "    file.write(reference_date.strftime('%Y-%m-%d'))"
   ]
  },
  {
   "cell_type": "code",
   "execution_count": 85,
   "metadata": {},
   "outputs": [
    {
     "data": {
      "text/plain": [
       "<Axes: xlabel='Jours écoulés', ylabel='Prix (€)'>"
      ]
     },
     "execution_count": 85,
     "metadata": {},
     "output_type": "execute_result"
    },
    {
     "data": {
      "image/png": "[encoded data removed]",
      "text/plain": [
       "<Figure size 640x480 with 1 Axes>"
      ]
     },
     "metadata": {},
     "output_type": "display_data"
    }
   ],
   "source": [
    "# Scatter plot\n",
    "sns.scatterplot(x='Jours écoulés', y='Prix (€)', hue='Arrondissement', data=dfDate, palette='viridis')"
   ]
  },
  {
   "cell_type": "code",
   "execution_count": 86,
   "metadata": {},
   "outputs": [
    {
     "name": "stdout",
     "output_type": "stream",
     "text": [
      "                            OLS Regression Results                            \n",
      "==============================================================================\n",
      "Dep. Variable:          Q(\"Prix (€)\")   R-squared:                       0.706\n",
      "Model:                            OLS   Adj. R-squared:                  0.705\n",
      "Method:                 Least Squares   F-statistic:                     99.98\n",
      "Date:                Thu, 23 May 2024   Prob (F-statistic):           4.46e-73\n",
      "Time:                        21:21:18   Log-Likelihood:                -16601.\n",
      "No. Observations:                1155   AIC:                         3.321e+04\n",
      "Df Residuals:                    1150   BIC:                         3.324e+04\n",
      "Df Model:                           4                                         \n",
      "Covariance Type:                  HC3                                         \n",
      "=======================================================================================\n",
      "                          coef    std err          z      P>|z|      [0.025      0.975]\n",
      "---------------------------------------------------------------------------------------\n",
      "Intercept             1.17e+09   1.64e+08      7.135      0.000    8.48e+08    1.49e+09\n",
      "Q(\"Pièce(s)\")        1819.9126   4347.926      0.419      0.676   -6701.867    1.03e+04\n",
      "Q(\"Surface (m2)\")    1.373e+04   1076.752     12.748      0.000    1.16e+04    1.58e+04\n",
      "Q(\"Jours écoulés\")     38.8819     32.636      1.191      0.233     -25.083     102.846\n",
      "Q(\"Arrondissement\")  -1.56e+04   2185.817     -7.135      0.000   -1.99e+04   -1.13e+04\n",
      "==============================================================================\n",
      "Omnibus:                      869.162   Durbin-Watson:                   1.978\n",
      "Prob(Omnibus):                  0.000   Jarque-Bera (JB):           152208.270\n",
      "Skew:                           2.536   Prob(JB):                         0.00\n",
      "Kurtosis:                      59.009   Cond. No.                     1.05e+09\n",
      "==============================================================================\n",
      "\n",
      "Notes:\n",
      "[1] Standard Errors are heteroscedasticity robust (HC3)\n",
      "[2] The condition number is large, 1.05e+09. This might indicate that there are\n",
      "strong multicollinearity or other numerical problems.\n"
     ]
    }
   ],
   "source": [
    "# Diviser les données en ensembles d'entraînement et de test\n",
    "train_data, test_data = train_test_split(dfDate, test_size=0.3, random_state=123)\n",
    "\n",
    "# Ajuster le modèle de régression linéaire en utilisant une formule\n",
    "formula = 'Q(\"Prix (€)\") ~ Q(\"Pièce(s)\") + Q(\"Surface (m2)\") + Q(\"Jours écoulés\") + Q(\"Arrondissement\")'\n",
    "model = smf.ols(formula=formula, data=train_data).fit(cov_type='HC3')\n",
    "\n",
    "# Résumé du modèle\n",
    "print(model.summary())\n",
    "\n",
    "# Prédire les prix sur les données de test\n",
    "predictions = model.predict(test_data)\n",
    "\n",
    "# Évaluer les performances du modèle\n",
    "rmse = np.sqrt(mean_squared_error(test_data['Prix (€)'], predictions))\n",
    "mae = mean_absolute_error(test_data['Prix (€)'], predictions)\n",
    "mape = mean_absolute_percentage_error(test_data['Prix (€)'], predictions)\n",
    "r2 = r2_score(test_data['Prix (€)'], predictions)\n",
    "\n",
    "# Enregistrer le modèle dans un fichier\n",
    "joblib.dump(model, 'model.pkl')\n",
    "# Enregistrer le DataFrame test_data dans un fichier CSV\n",
    "test_data.to_csv('test_data.csv', index=False)\n",
    "\n"
   ]
  },
  {
   "cell_type": "markdown",
   "metadata": {},
   "source": [
    "On constate un nombre de condition très large, et en faisant des tests ce n'est pas un problème de multicollinéarité mais plutôt de data scaling. Nous ne l'avons pas fait pour mieux visualiser les prix qui ont été prédit par le modèle"
   ]
  },
  {
   "cell_type": "code",
   "execution_count": 87,
   "metadata": {},
   "outputs": [
    {
     "name": "stdout",
     "output_type": "stream",
     "text": [
      "Mean Squared Error: 380490.19945142383\n",
      "Mean Absolute Error: 187849.39037857708\n",
      "R²: 0.7483681258075996\n",
      "Mean Absolute Percentage Error: 13.94390680854607% accuracy\n"
     ]
    }
   ],
   "source": [
    "print(f'Mean Squared Error: {rmse}')\n",
    "print(f'Mean Absolute Error: {mae}')\n",
    "print(f'R²: {r2}')\n",
    "\n",
    "# Après standardisation les données n'ont pas vraiment de sens, on va donc se concentrer sur le pourcentage d'erreur\n",
    "print(f'Mean Absolute Percentage Error: {mape}% accuracy')"
   ]
  }
 ],
 "metadata": {
  "kernelspec": {
   "display_name": "venv_ml",
   "language": "python",
   "name": "python3"
  },
  "language_info": {
   "codemirror_mode": {
    "name": "ipython",
    "version": 3
   },
   "file_extension": ".py",
   "mimetype": "text/x-python",
   "name": "python",
   "nbconvert_exporter": "python",
   "pygments_lexer": "ipython3",
   "version": "3.12.2"
  }
 },
 "nbformat": 4,
 "nbformat_minor": 2
}
