{
 "cells": [
  {
   "cell_type": "code",
   "execution_count": 64,
   "metadata": {},
   "outputs": [],
   "source": [
    "import pandas as pd\n",
    "import numpy as np\n",
    "import statsmodels.api as sm\n",
    "import statsmodels.formula.api as smf\n",
    "from statsmodels.stats.outliers_influence import variance_inflation_factor\n",
    "from statsmodels.stats.anova import anova_lm\n",
    "from sklearn.metrics import mean_squared_error, r2_score, mean_absolute_error, mean_absolute_percentage_error\n",
    "from sklearn.model_selection import train_test_split"
   ]
  },
  {
   "cell_type": "code",
   "execution_count": 65,
   "metadata": {},
   "outputs": [
    {
     "data": {
      "text/html": [
       "<div>\n",
       "<style scoped>\n",
       "    .dataframe tbody tr th:only-of-type {\n",
       "        vertical-align: middle;\n",
       "    }\n",
       "\n",
       "    .dataframe tbody tr th {\n",
       "        vertical-align: top;\n",
       "    }\n",
       "\n",
       "    .dataframe thead th {\n",
       "        text-align: right;\n",
       "    }\n",
       "</style>\n",
       "<table border=\"1\" class=\"dataframe\">\n",
       "  <thead>\n",
       "    <tr style=\"text-align: right;\">\n",
       "      <th></th>\n",
       "      <th>Arrondissement</th>\n",
       "      <th>Prix (€)</th>\n",
       "      <th>Prix mensuel (€)</th>\n",
       "      <th>Pièce(s)</th>\n",
       "      <th>Surface (m2)</th>\n",
       "      <th>Date de vente</th>\n",
       "    </tr>\n",
       "  </thead>\n",
       "  <tbody>\n",
       "    <tr>\n",
       "      <th>0</th>\n",
       "      <td>75001</td>\n",
       "      <td>750400</td>\n",
       "      <td>14431</td>\n",
       "      <td>2</td>\n",
       "      <td>52</td>\n",
       "      <td>22/05/2023</td>\n",
       "    </tr>\n",
       "    <tr>\n",
       "      <th>1</th>\n",
       "      <td>75001</td>\n",
       "      <td>330000</td>\n",
       "      <td>14348</td>\n",
       "      <td>1</td>\n",
       "      <td>23</td>\n",
       "      <td>28/04/2023</td>\n",
       "    </tr>\n",
       "    <tr>\n",
       "      <th>2</th>\n",
       "      <td>75001</td>\n",
       "      <td>360100</td>\n",
       "      <td>15657</td>\n",
       "      <td>1</td>\n",
       "      <td>23</td>\n",
       "      <td>29/03/2023</td>\n",
       "    </tr>\n",
       "    <tr>\n",
       "      <th>3</th>\n",
       "      <td>75001</td>\n",
       "      <td>286123</td>\n",
       "      <td>11005</td>\n",
       "      <td>1</td>\n",
       "      <td>26</td>\n",
       "      <td>10/02/2023</td>\n",
       "    </tr>\n",
       "    <tr>\n",
       "      <th>4</th>\n",
       "      <td>75001</td>\n",
       "      <td>411636</td>\n",
       "      <td>12864</td>\n",
       "      <td>2</td>\n",
       "      <td>32</td>\n",
       "      <td>28/12/2022</td>\n",
       "    </tr>\n",
       "    <tr>\n",
       "      <th>5</th>\n",
       "      <td>75001</td>\n",
       "      <td>334120</td>\n",
       "      <td>12375</td>\n",
       "      <td>1</td>\n",
       "      <td>27</td>\n",
       "      <td>16/12/2022</td>\n",
       "    </tr>\n",
       "    <tr>\n",
       "      <th>6</th>\n",
       "      <td>75001</td>\n",
       "      <td>1920000</td>\n",
       "      <td>12800</td>\n",
       "      <td>5</td>\n",
       "      <td>150</td>\n",
       "      <td>09/11/2022</td>\n",
       "    </tr>\n",
       "    <tr>\n",
       "      <th>7</th>\n",
       "      <td>75001</td>\n",
       "      <td>406000</td>\n",
       "      <td>11278</td>\n",
       "      <td>2</td>\n",
       "      <td>36</td>\n",
       "      <td>13/10/2022</td>\n",
       "    </tr>\n",
       "    <tr>\n",
       "      <th>8</th>\n",
       "      <td>75001</td>\n",
       "      <td>280000</td>\n",
       "      <td>12727</td>\n",
       "      <td>2</td>\n",
       "      <td>22</td>\n",
       "      <td>05/10/2022</td>\n",
       "    </tr>\n",
       "    <tr>\n",
       "      <th>9</th>\n",
       "      <td>75001</td>\n",
       "      <td>50000</td>\n",
       "      <td>2500</td>\n",
       "      <td>1</td>\n",
       "      <td>20</td>\n",
       "      <td>19/09/2022</td>\n",
       "    </tr>\n",
       "    <tr>\n",
       "      <th>10</th>\n",
       "      <td>75001</td>\n",
       "      <td>403000</td>\n",
       "      <td>14926</td>\n",
       "      <td>1</td>\n",
       "      <td>27</td>\n",
       "      <td>09/09/2022</td>\n",
       "    </tr>\n",
       "    <tr>\n",
       "      <th>11</th>\n",
       "      <td>75001</td>\n",
       "      <td>377000</td>\n",
       "      <td>12567</td>\n",
       "      <td>1</td>\n",
       "      <td>30</td>\n",
       "      <td>06/09/2022</td>\n",
       "    </tr>\n",
       "    <tr>\n",
       "      <th>12</th>\n",
       "      <td>75001</td>\n",
       "      <td>288000</td>\n",
       "      <td>13714</td>\n",
       "      <td>1</td>\n",
       "      <td>21</td>\n",
       "      <td>21/06/2022</td>\n",
       "    </tr>\n",
       "    <tr>\n",
       "      <th>13</th>\n",
       "      <td>75001</td>\n",
       "      <td>732000</td>\n",
       "      <td>14640</td>\n",
       "      <td>2</td>\n",
       "      <td>50</td>\n",
       "      <td>01/06/2022</td>\n",
       "    </tr>\n",
       "    <tr>\n",
       "      <th>14</th>\n",
       "      <td>75001</td>\n",
       "      <td>14000</td>\n",
       "      <td>255</td>\n",
       "      <td>3</td>\n",
       "      <td>55</td>\n",
       "      <td>23/05/2022</td>\n",
       "    </tr>\n",
       "  </tbody>\n",
       "</table>\n",
       "</div>"
      ],
      "text/plain": [
       "    Arrondissement  Prix (€)  Prix mensuel (€)  Pièce(s)  Surface (m2)  \\\n",
       "0            75001    750400             14431         2            52   \n",
       "1            75001    330000             14348         1            23   \n",
       "2            75001    360100             15657         1            23   \n",
       "3            75001    286123             11005         1            26   \n",
       "4            75001    411636             12864         2            32   \n",
       "5            75001    334120             12375         1            27   \n",
       "6            75001   1920000             12800         5           150   \n",
       "7            75001    406000             11278         2            36   \n",
       "8            75001    280000             12727         2            22   \n",
       "9            75001     50000              2500         1            20   \n",
       "10           75001    403000             14926         1            27   \n",
       "11           75001    377000             12567         1            30   \n",
       "12           75001    288000             13714         1            21   \n",
       "13           75001    732000             14640         2            50   \n",
       "14           75001     14000               255         3            55   \n",
       "\n",
       "   Date de vente  \n",
       "0     22/05/2023  \n",
       "1     28/04/2023  \n",
       "2     29/03/2023  \n",
       "3     10/02/2023  \n",
       "4     28/12/2022  \n",
       "5     16/12/2022  \n",
       "6     09/11/2022  \n",
       "7     13/10/2022  \n",
       "8     05/10/2022  \n",
       "9     19/09/2022  \n",
       "10    09/09/2022  \n",
       "11    06/09/2022  \n",
       "12    21/06/2022  \n",
       "13    01/06/2022  \n",
       "14    23/05/2022  "
      ]
     },
     "execution_count": 65,
     "metadata": {},
     "output_type": "execute_result"
    }
   ],
   "source": [
    "# Chargement des données\n",
    "file_path = 'data/immodataParis.csv'\n",
    "data = pd.read_csv(file_path)\n",
    "\n",
    "data = data[['Arrondissement', 'Prix (€)',\n",
    "       'Prix mensuel (€)', 'Pièce(s)', 'Surface (m2)', 'Date de vente']].copy()\n",
    "\n",
    "df = pd.DataFrame(data)\n",
    "df.head(15)"
   ]
  },
  {
   "cell_type": "markdown",
   "metadata": {},
   "source": [
    "### Vérification de la multicolinéarité"
   ]
  },
  {
   "cell_type": "code",
   "execution_count": 66,
   "metadata": {},
   "outputs": [
    {
     "name": "stdout",
     "output_type": "stream",
     "text": [
      "        Variables           VIF\n",
      "0           const  1.702824e+08\n",
      "1    Surface (m2)  1.039003e+00\n",
      "2        Pièce(s)  1.033087e+00\n",
      "3  Arrondissement  1.007166e+00\n"
     ]
    }
   ],
   "source": [
    "# Définir les variables indépendantes (X) et la variable dépendante (y)\n",
    "X = df[['Surface (m2)', 'Pièce(s)', 'Arrondissement']]\n",
    "y = df['Prix (€)']\n",
    "# Ajouter une constante pour l'interception\n",
    "X = sm.add_constant(X)\n",
    "\n",
    "vif = pd.DataFrame()\n",
    "vif[\"Variables\"] = X.columns\n",
    "vif[\"VIF\"] = [variance_inflation_factor(X.values, i) for i in range(X.shape[1])]\n",
    "print(vif)"
   ]
  },
  {
   "cell_type": "markdown",
   "metadata": {},
   "source": [
    "Si les valeurs du VIF sont supérieur à 5-10, il y a une multicollinéarité, comme on peut le constater ils sont tous autour de 1 donc pas de problème de multicollinéarité"
   ]
  },
  {
   "cell_type": "code",
   "execution_count": 67,
   "metadata": {},
   "outputs": [
    {
     "name": "stdout",
     "output_type": "stream",
     "text": [
      "                            OLS Regression Results                            \n",
      "==============================================================================\n",
      "Dep. Variable:          Q(\"Prix (€)\")   R-squared:                       0.662\n",
      "Model:                            OLS   Adj. R-squared:                  0.661\n",
      "Method:                 Least Squares   F-statistic:                     52.03\n",
      "Date:                Wed, 22 May 2024   Prob (F-statistic):           1.22e-22\n",
      "Time:                        22:03:09   Log-Likelihood:                -24136.\n",
      "No. Observations:                1654   AIC:                         4.828e+04\n",
      "Df Residuals:                    1651   BIC:                         4.829e+04\n",
      "Df Model:                           2                                         \n",
      "Covariance Type:                  HC3                                         \n",
      "=====================================================================================\n",
      "                        coef    std err          z      P>|z|      [0.025      0.975]\n",
      "-------------------------------------------------------------------------------------\n",
      "Intercept           -1.8e+05   7.97e+04     -2.259      0.024   -3.36e+05   -2.39e+04\n",
      "Q(\"Surface (m2)\")  1.533e+04   1603.659      9.562      0.000    1.22e+04    1.85e+04\n",
      "Q(\"Pièce(s)\")      1305.4221   2111.881      0.618      0.536   -2833.788    5444.632\n",
      "==============================================================================\n",
      "Omnibus:                     2540.637   Durbin-Watson:                   1.778\n",
      "Prob(Omnibus):                  0.000   Jarque-Bera (JB):          3325312.671\n",
      "Skew:                           8.811   Prob(JB):                         0.00\n",
      "Kurtosis:                     221.954   Cond. No.                         117.\n",
      "==============================================================================\n",
      "\n",
      "Notes:\n",
      "[1] Standard Errors are heteroscedasticity robust (HC3)\n"
     ]
    }
   ],
   "source": [
    "\n",
    "# Ajuster le modèle de régression linéaire en utilisant une formule\n",
    "formula = 'Q(\"Prix (€)\") ~ Q(\"Surface (m2)\") + Q(\"Pièce(s)\")'\n",
    "model = smf.ols(formula=formula, data=df).fit(cov_type='HC3')\n",
    "\n",
    "# Résumé du modèle\n",
    "print(model.summary())\n",
    "\n",
    "# Multicolinéarité entre la surface et l'arrondissement"
   ]
  },
  {
   "cell_type": "code",
   "execution_count": 68,
   "metadata": {},
   "outputs": [
    {
     "name": "stdout",
     "output_type": "stream",
     "text": [
      "                       df        sum_sq       mean_sq            F    PR(>F)\n",
      "Q(\"Surface (m2)\")     1.0  8.948917e+14  8.948917e+14  3226.239009  0.000000\n",
      "Q(\"Pièce(s)\")         1.0  4.233223e+11  4.233223e+11     1.526150  0.216867\n",
      "Residual           1651.0  4.579531e+14  2.773792e+11          NaN       NaN\n"
     ]
    }
   ],
   "source": [
    "# Effectuer l'ANOVA\n",
    "anova_results = anova_lm(model)\n",
    "print(anova_results)"
   ]
  },
  {
   "cell_type": "markdown",
   "metadata": {},
   "source": [
    "Pour la surface, la p-value associée est pratiquement nulle. Cela indique que la surface en mètres carrés est un prédicteur hautement significatif du prix des appartements, comme nous l'avons analysé plus tôt dans l'EDA.\n",
    "\n",
    "Tandis que pour le nombre de pièce, la p-value associée étant bien supérieure à 0.05, cela indique que le nombre de pièces n'est pas un prédicteur significatif du prix des appartements dans ce modèle."
   ]
  },
  {
   "cell_type": "markdown",
   "metadata": {},
   "source": [
    "### Prédiction du prix"
   ]
  },
  {
   "cell_type": "code",
   "execution_count": 85,
   "metadata": {},
   "outputs": [
    {
     "name": "stdout",
     "output_type": "stream",
     "text": [
      "                            OLS Regression Results                            \n",
      "==============================================================================\n",
      "Dep. Variable:          Q(\"Prix (€)\")   R-squared:                       0.024\n",
      "Model:                            OLS   Adj. R-squared:                  0.024\n",
      "Method:                 Least Squares   F-statistic:                     1.079\n",
      "Date:                Wed, 22 May 2024   Prob (F-statistic):              0.299\n",
      "Time:                        22:13:35   Log-Likelihood:                -17602.\n",
      "No. Observations:                1157   AIC:                         3.521e+04\n",
      "Df Residuals:                    1155   BIC:                         3.522e+04\n",
      "Df Model:                           1                                         \n",
      "Covariance Type:                  HC3                                         \n",
      "=================================================================================\n",
      "                    coef    std err          z      P>|z|      [0.025      0.975]\n",
      "---------------------------------------------------------------------------------\n",
      "Intercept      6.887e+05   3.83e+04     17.992      0.000    6.14e+05    7.64e+05\n",
      "Q(\"Pièce(s)\")  1.042e+04      1e+04      1.039      0.299   -9242.663    3.01e+04\n",
      "==============================================================================\n",
      "Omnibus:                     1719.863   Durbin-Watson:                   2.034\n",
      "Prob(Omnibus):                  0.000   Jarque-Bera (JB):           772361.633\n",
      "Skew:                           8.503   Prob(JB):                         0.00\n",
      "Kurtosis:                     128.428   Cond. No.                         15.6\n",
      "==============================================================================\n",
      "\n",
      "Notes:\n",
      "[1] Standard Errors are heteroscedasticity robust (HC3)\n"
     ]
    }
   ],
   "source": [
    "# Diviser les données en ensembles d'entraînement et de test\n",
    "train_data, test_data = train_test_split(df, test_size=0.3, random_state=123)\n",
    "\n",
    "# Ajuster le modèle de régression linéaire en utilisant une formule\n",
    "formula = 'Q(\"Prix (€)\") ~ Q(\"Pièce(s)\")'\n",
    "model = smf.ols(formula=formula, data=train_data).fit(cov_type='HC3')\n",
    "\n",
    "# Résumé du modèle\n",
    "print(model.summary())\n",
    "\n",
    "# Prédire les prix sur les données de test\n",
    "predictions = model.predict(test_data)\n",
    "\n",
    "# Évaluer les performances du modèle\n",
    "rmse = np.sqrt(mean_squared_error(test_data['Prix (€)'], predictions))\n",
    "mae = mean_absolute_error(test_data['Prix (€)'], predictions)\n",
    "mape = mean_absolute_percentage_error(test_data['Prix (€)'], predictions)\n",
    "r2 = r2_score(test_data['Prix (€)'], predictions)"
   ]
  },
  {
   "cell_type": "markdown",
   "metadata": {},
   "source": [
    "### Significativité du Modèle\n",
    "Le coefficient de détermination (R²) est de 0.651, ce qui signifie que 65.1% de la variance du prix des appartements est expliquée par les variables incluses dans le modèle. Le R² ajusté, qui prend en compte le nombre de prédicteurs, est également de 0.651, suggérant que le modèle a une bonne capacité explicative avec un ajustement minimal pour le nombre de variables. La statistique F est de 35.79, avec une p-value associée très faible (8.35e-16), confirmant que le modèle global est statistiquement significatif.\n",
    "\n",
    "### Interprétation des Coefficients\n",
    "L'intercept du modèle est de -191100 €, avec une p-value de 0.056, ce qui est marginalement non significatif. Cela signifie qu'un appartement avec une surface de 0 m² et 0 pièces aurait un prix de -191100 €, une extrapolation non réaliste mais nécessaire pour la fonction linéaire. Le coefficient de la surface (m²) est de 15620 €, avec une p-value de 0.000, indiquant qu'une augmentation de 1 m² de la surface est associée à une augmentation du prix de 15620 €, toutes choses égales par ailleurs. Ce coefficient est hautement significatif. En revanche, le coefficient du nombre de pièces est de 1231.6114 €, avec une p-value de 0.567, ce qui n'est pas statistiquement significatif. Cela suggère que, dans le contexte de ce modèle, le nombre de pièces n'a pas un impact significatif sur le prix des appartements.\n",
    "\n",
    "### Diagnostics du Modèle\n",
    "Les diagnostics du modèle révèlent quelques préoccupations. La statistique Omnibus et sa p-value associée indiquent que les résidus ne sont pas normalement distribués. La statistique de Durbin-Watson est de 1.996, suggérant une faible autocorrélation des résidus. La statistique Jarque-Bera est extrêmement élevée, ce qui indique que les résidus sont loin d'une distribution normale. De plus, la kurtosis de 199.092 suggère une distribution des résidus avec des queues très lourdes, indiquant la présence de nombreux outliers. Enfin, le numéro de condition est de 118, ce qui est modérément élevé et peut indiquer une certaine multicolinéarité, bien que les VIFs précédemment calculés n'aient pas suggéré de problème majeur.\n",
    "\n"
   ]
  },
  {
   "cell_type": "code",
   "execution_count": 81,
   "metadata": {},
   "outputs": [
    {
     "name": "stdout",
     "output_type": "stream",
     "text": [
      "Mean Squared Error: 353200.01873946877\n",
      "Mean Absolute Error: 197447.3273172899\n",
      "Mean Absolute Percentage Error: 16.548022341202955% accuracy\n",
      "R²: 0.7121100787043778\n"
     ]
    }
   ],
   "source": [
    "print(f'Mean Squared Error: {rmse}')\n",
    "print(f'Mean Absolute Error: {mae}')\n",
    "print(f'Mean Absolute Percentage Error: {mape}% accuracy')\n",
    "print(f'R²: {r2}')"
   ]
  },
  {
   "cell_type": "code",
   "execution_count": 74,
   "metadata": {},
   "outputs": [
    {
     "data": {
      "text/plain": [
       "16.548022341202955"
      ]
     },
     "execution_count": 74,
     "metadata": {},
     "output_type": "execute_result"
    }
   ],
   "source": []
  }
 ],
 "metadata": {
  "kernelspec": {
   "display_name": "venv_ml",
   "language": "python",
   "name": "python3"
  },
  "language_info": {
   "codemirror_mode": {
    "name": "ipython",
    "version": 3
   },
   "file_extension": ".py",
   "mimetype": "text/x-python",
   "name": "python",
   "nbconvert_exporter": "python",
   "pygments_lexer": "ipython3",
   "version": "3.12.2"
  }
 },
 "nbformat": 4,
 "nbformat_minor": 2
}
