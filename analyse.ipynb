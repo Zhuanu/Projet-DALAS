{
 "cells": [
  {
   "cell_type": "markdown",
   "metadata": {},
   "source": [
    "### Idées d'analyse de données (+ Self-Notes)\n",
    "- Pour le moment, visualiser les données\n",
    "- Trouver les corrélations entre les données\n",
    "- Répondre à la problématique au fur et à mesure et trouver une analyse à effectuer\n",
    "- Noter les sous-idées en dessous de la problématique\n",
    "- Se référer aux anciens TMEs pour avoir plus d'idées"
   ]
  },
  {
   "cell_type": "markdown",
   "metadata": {},
   "source": [
    "### Problématique\n",
    "\n",
    "----------------------\n",
    "#### Les entrées / sorties :\n",
    "**Entrée :** Préférences (on ne va pas appeler liste de préférences sauf si c'est pour plusieurs utilisateurs)\\\n",
    "**Sortie :** Meilleur appartement (parmi ceux existants sur le site Century21)\n",
    "\n",
    "----------------------\n",
    "#### Notre rôle : \n",
    "- Nous sommes agents immobiliers de Century21 et notre job est d'aider les clients dans leur choix d'appartement pour maximiser leur satisfaction\n",
    "- Attention : notre but n'est pas de créer des appartements pour les vendre et de faire le meilleur profit\n",
    "- Nous donnons de l'importance à leur budget, nous n'allons pas présenter d'appartement au-dessus de leur budget mensuel (ah et on ne prendra pas en compte le budget annuel)\n",
    "- Nous considérons que le budget correspond à leur salaire + la marge (éviter de mettre tout leur argent sur un appartement)\n",
    "\n",
    "----------------------\n",
    "#### Définir 'Préférences' :\n",
    "- A partir des données Immodata, nous allons générer les données réalistes\n",
    "- Pour ce faire, nous pouvons créer plusieurs profils grâce au clustering\n",
    "- Nous devons réfléchir à plus de détails à propos du clustering\n",
    "\n",
    "----------------------\n",
    "#### Définir 'Meilleur appartement' : \n",
    "\n",
    "- Meilleur ratio préférences / prix ?\n",
    "\n",
    "- Meilleur appartement au prix idéal ?\n",
    "    - min( prix prédit, salaire par mois )\n",
    "    - C'est-à-dire le prix prédit par un classifieur\n",
    "    - Entraînement du classifieur avec les données de Kaggle (prix selon les caractéristiques)\n",
    "    - Prédiction du prix idéal selon les nouvelles caractéristiques données\n",
    "\n",
    "- Appartement le moins cher contenant toutes les caractéristiques\n",
    "\n",
    "- Meilleures caractéristiques sans prendre en compte le prix ?\n",
    "\n",
    "- Peut-être retourner une liste d'appartements puis définir le niveau de priorité 'préférences / prix'\n",
    "    - barre de niveau avec à gauche 'prix' et à droite 'préférences'\n",
    "    - plus le niveau est à gauche, plus le prix est priorisé, c'est-à-dire qu'on doit avoir au minium toutes les caractéristiques avec le prix minimum\n",
    "    - plus le niveau est à droite, plus les caractéristiques sont priorisés, donc on doit avoir les meilleurs, mais toujours en dessous de son budget\n",
    "        - exemple : Si un client veut avoir un appartement entre 3 et 5 pièces, nous allons lui proposer un appartement à 5 pièces si le buget reste en dessous\n",
    "\n",
    "----------------------\n",
    "#### Utilisation des données (caractéristiques à ajouter si besoin) : \n",
    "\n",
    "- Données Kaggle (pour la prédiction de prix)\n",
    "    - Date\n",
    "    - Price\n",
    "    - Bedrooms\n",
    "    - Bathrooms\n",
    "    - SQFT Living (à transformer en m²)\n",
    "    - SQFT Lot (à transformer en m²)\n",
    "    - Floors\n",
    "    - Waterfront (pas besoin)\n",
    "    - View (pas besoin)\n",
    "    - Condition (pas besoin)\n",
    "\n",
    "- Données Immodata (pour la génération de préférences)\n",
    "    - Adresse\n",
    "    - Type (Maison, Appartement)\n",
    "    - Prix total\n",
    "    - Prix par mois\n",
    "    - Nombre de pièces\n",
    "    - Surface en m²\n",
    "    - Date de vendu\n",
    "    \n",
    "- Données Century21 (c'est de là que nous allons proposer les appartements)\n",
    "    - Ville\n",
    "    - Arrondissement\n",
    "    - Surface (m2)\n",
    "    - Pièce(s)\n",
    "    - Prix (€)\n",
    "\n",
    "----------------------\n",
    "#### Idées à garder de côté :\n",
    "- prix selon la consommation d'énergie (qui dépendra de la surface et du nombre de personnes) que nous pourront peut-être utiliser pour calculer la marge\n",
    "\n"
   ]
  },
  {
   "cell_type": "code",
   "execution_count": 4,
   "metadata": {},
   "outputs": [],
   "source": [
    "import numpy as np\n",
    "import matplotlib.pyplot as plt\n",
    "import pandas as pd\n",
    "import seaborn as sns"
   ]
  },
  {
   "cell_type": "markdown",
   "metadata": {},
   "source": [
    "### <ins>Partie 0 : Récupération des données</ins>\n",
    "\n",
    "- Transformation des données en DataFrame pour pouvoir mieux les manipuler\n",
    "- Peut-être aussi nettoyer si besoin"
   ]
  },
  {
   "cell_type": "code",
   "execution_count": null,
   "metadata": {},
   "outputs": [],
   "source": []
  },
  {
   "cell_type": "markdown",
   "metadata": {},
   "source": [
    "### <ins>Partie 1 : Génération de préférences</ins> (immo-data)\n",
    "\n",
    "- Chercher comment faire du clustering\n",
    "- Tester sur des jeux de données simples\n",
    "- Tester ensuite sur les jeux de données immo-data\n",
    "(Par contre pour immo-data, il faut savoir quoi filtrer)"
   ]
  },
  {
   "cell_type": "code",
   "execution_count": null,
   "metadata": {},
   "outputs": [],
   "source": []
  },
  {
   "cell_type": "markdown",
   "metadata": {},
   "source": [
    "### <ins>Partie 2 : Prédiction de prix</ins> (Données Kaggle)\n",
    "\n",
    "- Il y a beaucoup de features, mais cette partie semble facile\n",
    "- Il suffit de train les données sur plusieurs modèles de scikit-learn et les tester\n",
    "- Ce qui revient à évaluer les performances\n",
    "- Visualiser grâce aux courbes les meilleurs modèles"
   ]
  },
  {
   "cell_type": "code",
   "execution_count": null,
   "metadata": {},
   "outputs": [],
   "source": []
  },
  {
   "cell_type": "markdown",
   "metadata": {},
   "source": [
    "### <ins>Partie 3 : Proposition d'apppartement</ins> (Century21)\n",
    "\n",
    "- Partie la plus difficile, car il faut encore réfléchir dessus\n",
    "- Définir 1 ou plusieurs façons de proposer un appartement (est-ce qu'on doit payer le minimum, avoir le max de features, etc.)"
   ]
  },
  {
   "cell_type": "code",
   "execution_count": null,
   "metadata": {},
   "outputs": [],
   "source": []
  }
 ],
 "metadata": {
  "kernelspec": {
   "display_name": "Python 3",
   "language": "python",
   "name": "python3"
  },
  "language_info": {
   "codemirror_mode": {
    "name": "ipython",
    "version": 3
   },
   "file_extension": ".py",
   "mimetype": "text/x-python",
   "name": "python",
   "nbconvert_exporter": "python",
   "pygments_lexer": "ipython3",
   "version": "3.9.3"
  }
 },
 "nbformat": 4,
 "nbformat_minor": 2
}
