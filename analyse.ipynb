{
 "cells": [
  {
   "cell_type": "markdown",
   "metadata": {},
   "source": [
    "### Idées d'analyse de données (+ Self-Notes)\n",
    "- Pour le moment, visualiser les données\n",
    "- Trouver les corrélations entre les données\n",
    "- Répondre à la problématique au fur et à mesure et trouver une analyse à effectuer\n",
    "- Noter les sous-idées en dessous de la problématique\n",
    "- Se référer aux anciens TMEs pour avoir plus d'idées"
   ]
  },
  {
   "cell_type": "markdown",
   "metadata": {},
   "source": [
    "### <ins>Problématique</ins>\n",
    "\n",
    "#### Nous sommes agents immobiliers (l'idée de base était acheteurs...)\n",
    "- Nous allons mettre deux problématiques différentes pour voir ce qu'on voudrait faire\n",
    "- immo-data peut servir pour l'analyse de qualité (mettre un score)\n",
    "\n",
    "#### Acheteurs (on suppose qu'on souhaite payer le moins possible)\n",
    "- Réaliser des analyses pour trouver le meilleur prix possible pour un appartement qui correspond à mes attentes (ça rappelle du clustering pour observer les différents profils d'acheteurs)\n",
    "- Un acheteur a une liste de préférences et on veut récupérer le meilleur appartement pour lui au meilleur prix\n",
    "\n",
    "#### Agents immobiliers\n",
    "- Nous allons effectuer des analyses pour observer les caractéristiques des maisons les plus vendus\n",
    "- Nous voulons également sélectionner un prix optimal\n",
    "- Observer les différents profils d'acheteurs (ceux qui préfèrent une grande surface, etc.)\n",
    "    - Quels sont les profils les plus populaires ?\n",
    "\n"
   ]
  },
  {
   "cell_type": "code",
   "execution_count": 1,
   "metadata": {},
   "outputs": [
    {
     "ename": "ModuleNotFoundError",
     "evalue": "No module named 'seaborn'",
     "output_type": "error",
     "traceback": [
      "\u001b[1;31m---------------------------------------------------------------------------\u001b[0m",
      "\u001b[1;31mModuleNotFoundError\u001b[0m                       Traceback (most recent call last)",
      "Cell \u001b[1;32mIn[1], line 4\u001b[0m\n\u001b[0;32m      2\u001b[0m \u001b[38;5;28;01mimport\u001b[39;00m \u001b[38;5;21;01mmatplotlib\u001b[39;00m\u001b[38;5;21;01m.\u001b[39;00m\u001b[38;5;21;01mpyplot\u001b[39;00m \u001b[38;5;28;01mas\u001b[39;00m \u001b[38;5;21;01mplt\u001b[39;00m\n\u001b[0;32m      3\u001b[0m \u001b[38;5;28;01mimport\u001b[39;00m \u001b[38;5;21;01mpandas\u001b[39;00m \u001b[38;5;28;01mas\u001b[39;00m \u001b[38;5;21;01mpd\u001b[39;00m\n\u001b[1;32m----> 4\u001b[0m \u001b[38;5;28;01mimport\u001b[39;00m \u001b[38;5;21;01mseaborn\u001b[39;00m \u001b[38;5;28;01mas\u001b[39;00m \u001b[38;5;21;01msns\u001b[39;00m\n",
      "\u001b[1;31mModuleNotFoundError\u001b[0m: No module named 'seaborn'"
     ]
    }
   ],
   "source": [
    "import numpy as np\n",
    "import matplotlib.pyplot as plt\n",
    "import pandas as pd\n",
    "import seaborn as sns"
   ]
  },
  {
   "cell_type": "markdown",
   "metadata": {},
   "source": [
    "### <ins>Etapes</ins>\n",
    "\n",
    "- Transformation des données en DataFrame pour pouvoir mieux les manipuler"
   ]
  },
  {
   "cell_type": "code",
   "execution_count": null,
   "metadata": {},
   "outputs": [],
   "source": []
  }
 ],
 "metadata": {
  "kernelspec": {
   "display_name": "Python 3",
   "language": "python",
   "name": "python3"
  },
  "language_info": {
   "codemirror_mode": {
    "name": "ipython",
    "version": 3
   },
   "file_extension": ".py",
   "mimetype": "text/x-python",
   "name": "python",
   "nbconvert_exporter": "python",
   "pygments_lexer": "ipython3",
   "version": "3.9.3"
  }
 },
 "nbformat": 4,
 "nbformat_minor": 2
}
