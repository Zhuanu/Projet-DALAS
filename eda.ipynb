{
 "cells": [
  {
   "cell_type": "code",
   "execution_count": 1,
   "metadata": {},
   "outputs": [],
   "source": [
    "import pandas as pd\n",
    "import matplotlib.pyplot as plt\n",
    "import seaborn as sns"
   ]
  },
  {
   "cell_type": "markdown",
   "metadata": {},
   "source": [
    "### Notes\n",
    "(Les idées viennent d'une tuto Youtube)\n",
    "\n",
    "Objectif :\n",
    "- Comprendre du mieux possible nos données (un petit pas en avant vaut mieux qu'un grand pas en arriere)\n",
    "- Développer une premiere stratégie de modélisation\n",
    "\n",
    "### Checklist de base\n",
    "#### Analyse de Forme :\n",
    "- **variable target** : \n",
    "- **lignes et colonnes** : \n",
    "- **types de variables** : \n",
    "- **Analyse des valeurs manquantes** :\n",
    "\n",
    "#### Analyse de Fond :\n",
    "- **Visualisation de la target** :\n",
    "- **Signification des variables** :\n",
    "- **Relation Variables / Target** :\n",
    "\n",
    "#### Analyse plus détaillée :\n",
    "- **Relation Variables / Variables** :\n",
    "- **NaN analyse** :\n",
    "\n",
    "#### hypotheses nulle (H0) :"
   ]
  },
  {
   "cell_type": "code",
   "execution_count": null,
   "metadata": {},
   "outputs": [],
   "source": []
  },
  {
   "cell_type": "code",
   "execution_count": null,
   "metadata": {},
   "outputs": [],
   "source": [
    "# Idées immo-data"
   ]
  },
  {
   "cell_type": "code",
   "execution_count": null,
   "metadata": {},
   "outputs": [],
   "source": [
    "# Idées century21"
   ]
  },
  {
   "cell_type": "code",
   "execution_count": null,
   "metadata": {},
   "outputs": [],
   "source": [
    "# Idées housedata"
   ]
  },
  {
   "cell_type": "markdown",
   "metadata": {},
   "source": [
    "## Immo-data"
   ]
  },
  {
   "cell_type": "code",
   "execution_count": 3,
   "metadata": {},
   "outputs": [],
   "source": [
    "file_path = 'data/immodataParis.csv'\n",
    "data = pd.read_csv(file_path)"
   ]
  },
  {
   "cell_type": "markdown",
   "metadata": {},
   "source": [
    "#### Analyse de Forme :"
   ]
  },
  {
   "cell_type": "code",
   "execution_count": 5,
   "metadata": {},
   "outputs": [
    {
     "data": {
      "text/plain": [
       "int64     5\n",
       "object    4\n",
       "dtype: int64"
      ]
     },
     "execution_count": 5,
     "metadata": {},
     "output_type": "execute_result"
    }
   ],
   "source": [
    "df = data.copy()\n",
    "df.shape\n",
    "df.dtypes.value_counts()"
   ]
  },
  {
   "cell_type": "code",
   "execution_count": 7,
   "metadata": {},
   "outputs": [
    {
     "data": {
      "text/html": [
       "<div>\n",
       "<style scoped>\n",
       "    .dataframe tbody tr th:only-of-type {\n",
       "        vertical-align: middle;\n",
       "    }\n",
       "\n",
       "    .dataframe tbody tr th {\n",
       "        vertical-align: top;\n",
       "    }\n",
       "\n",
       "    .dataframe thead th {\n",
       "        text-align: right;\n",
       "    }\n",
       "</style>\n",
       "<table border=\"1\" class=\"dataframe\">\n",
       "  <thead>\n",
       "    <tr style=\"text-align: right;\">\n",
       "      <th></th>\n",
       "      <th>Adresse</th>\n",
       "      <th>Ville</th>\n",
       "      <th>Arrondissement</th>\n",
       "      <th>Type</th>\n",
       "      <th>Prix (€)</th>\n",
       "      <th>Prix mensuel (€)</th>\n",
       "      <th>Pièce(s)</th>\n",
       "      <th>Surface (m2)</th>\n",
       "      <th>Date de vente</th>\n",
       "    </tr>\n",
       "  </thead>\n",
       "  <tbody>\n",
       "    <tr>\n",
       "      <th>0</th>\n",
       "      <td>270 RUE SAINT-HONORÉ</td>\n",
       "      <td>PARIS</td>\n",
       "      <td>75001</td>\n",
       "      <td>Appartement</td>\n",
       "      <td>750400</td>\n",
       "      <td>14431</td>\n",
       "      <td>2</td>\n",
       "      <td>52</td>\n",
       "      <td>22/05/2023</td>\n",
       "    </tr>\n",
       "    <tr>\n",
       "      <th>1</th>\n",
       "      <td>186 RUE DE RIVOLI</td>\n",
       "      <td>PARIS</td>\n",
       "      <td>75001</td>\n",
       "      <td>Appartement</td>\n",
       "      <td>330000</td>\n",
       "      <td>14348</td>\n",
       "      <td>1</td>\n",
       "      <td>23</td>\n",
       "      <td>28/04/2023</td>\n",
       "    </tr>\n",
       "    <tr>\n",
       "      <th>2</th>\n",
       "      <td>23 RUE DE RICHELIEU</td>\n",
       "      <td>PARIS</td>\n",
       "      <td>75001</td>\n",
       "      <td>Appartement</td>\n",
       "      <td>360100</td>\n",
       "      <td>15657</td>\n",
       "      <td>1</td>\n",
       "      <td>23</td>\n",
       "      <td>29/03/2023</td>\n",
       "    </tr>\n",
       "    <tr>\n",
       "      <th>3</th>\n",
       "      <td>27 RUE DE RICHELIEU</td>\n",
       "      <td>PARIS</td>\n",
       "      <td>75001</td>\n",
       "      <td>Appartement</td>\n",
       "      <td>286123</td>\n",
       "      <td>11005</td>\n",
       "      <td>1</td>\n",
       "      <td>26</td>\n",
       "      <td>10/02/2023</td>\n",
       "    </tr>\n",
       "    <tr>\n",
       "      <th>4</th>\n",
       "      <td>272 RUE SAINT-HONORÉ</td>\n",
       "      <td>PARIS</td>\n",
       "      <td>75001</td>\n",
       "      <td>Appartement</td>\n",
       "      <td>411636</td>\n",
       "      <td>12864</td>\n",
       "      <td>2</td>\n",
       "      <td>32</td>\n",
       "      <td>28/12/2022</td>\n",
       "    </tr>\n",
       "  </tbody>\n",
       "</table>\n",
       "</div>"
      ],
      "text/plain": [
       "                Adresse  Ville  Arrondissement         Type  Prix (€)  \\\n",
       "0  270 RUE SAINT-HONORÉ  PARIS           75001  Appartement    750400   \n",
       "1     186 RUE DE RIVOLI  PARIS           75001  Appartement    330000   \n",
       "2   23 RUE DE RICHELIEU  PARIS           75001  Appartement    360100   \n",
       "3   27 RUE DE RICHELIEU  PARIS           75001  Appartement    286123   \n",
       "4  272 RUE SAINT-HONORÉ  PARIS           75001  Appartement    411636   \n",
       "\n",
       "   Prix mensuel (€)  Pièce(s)  Surface (m2) Date de vente  \n",
       "0             14431         2            52    22/05/2023  \n",
       "1             14348         1            23    28/04/2023  \n",
       "2             15657         1            23    29/03/2023  \n",
       "3             11005         1            26    10/02/2023  \n",
       "4             12864         2            32    28/12/2022  "
      ]
     },
     "execution_count": 7,
     "metadata": {},
     "output_type": "execute_result"
    }
   ],
   "source": [
    "df.head()"
   ]
  },
  {
   "cell_type": "code",
   "execution_count": 8,
   "metadata": {},
   "outputs": [
    {
     "data": {
      "text/plain": [
       "Index(['Adresse', 'Ville', 'Arrondissement', 'Type', 'Prix (€)',\n",
       "       'Prix mensuel (€)', 'Pièce(s)', 'Surface (m2)', 'Date de vente'],\n",
       "      dtype='object')"
      ]
     },
     "execution_count": 8,
     "metadata": {},
     "output_type": "execute_result"
    }
   ],
   "source": [
    "df.columns"
   ]
  },
  {
   "cell_type": "markdown",
   "metadata": {},
   "source": [
    "- **Adresse** : Valeur unique\n",
    "- **Ville** : Même valeur\n",
    "- **Arrondissement** : A regouper ?\n",
    "- **Type** : A regrouper\n",
    "- **Prix (€)** : A retirer ?\n",
    "- **Prix mensuel (€)** : Pour la prédiction\n",
    "- **Pièce(s)** : Sort\n",
    "- **Surface (m2)** : Sort\n",
    "- **Date de vente** : Sort"
   ]
  },
  {
   "cell_type": "markdown",
   "metadata": {},
   "source": [
    "#### Analyse de Fond :"
   ]
  },
  {
   "cell_type": "markdown",
   "metadata": {},
   "source": []
  },
  {
   "cell_type": "markdown",
   "metadata": {},
   "source": [
    "#### Analyse plus détaillée :"
   ]
  },
  {
   "cell_type": "code",
   "execution_count": null,
   "metadata": {},
   "outputs": [],
   "source": []
  },
  {
   "cell_type": "markdown",
   "metadata": {},
   "source": [
    "#### hypotheses nulle (H0) :"
   ]
  },
  {
   "cell_type": "code",
   "execution_count": null,
   "metadata": {},
   "outputs": [],
   "source": []
  }
 ],
 "metadata": {
  "kernelspec": {
   "display_name": "Python 3",
   "language": "python",
   "name": "python3"
  },
  "language_info": {
   "codemirror_mode": {
    "name": "ipython",
    "version": 3
   },
   "file_extension": ".py",
   "mimetype": "text/x-python",
   "name": "python",
   "nbconvert_exporter": "python",
   "pygments_lexer": "ipython3",
   "version": "3.9.3"
  }
 },
 "nbformat": 4,
 "nbformat_minor": 2
}
